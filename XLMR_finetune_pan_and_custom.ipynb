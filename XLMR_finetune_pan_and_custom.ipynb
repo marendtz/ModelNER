{
  "nbformat": 4,
  "nbformat_minor": 0,
  "metadata": {
    "colab": {
      "provenance": [],
      "gpuType": "A100",
      "authorship_tag": "ABX9TyPOAIS6A4ByyubSG/fvTlgQ",
      "include_colab_link": true
    },
    "kernelspec": {
      "name": "python3",
      "display_name": "Python 3"
    },
    "language_info": {
      "name": "python"
    },
    "widgets": {
      "application/vnd.jupyter.widget-state+json": {
        "4d456e388acb4f7eb06ea0611ed4b823": {
          "model_module": "@jupyter-widgets/controls",
          "model_name": "VBoxModel",
          "model_module_version": "1.5.0",
          "state": {
            "_dom_classes": [],
            "_model_module": "@jupyter-widgets/controls",
            "_model_module_version": "1.5.0",
            "_model_name": "VBoxModel",
            "_view_count": null,
            "_view_module": "@jupyter-widgets/controls",
            "_view_module_version": "1.5.0",
            "_view_name": "VBoxView",
            "box_style": "",
            "children": [
              "IPY_MODEL_2a7f4b05f28a4c77930ebc14ed6e4a15",
              "IPY_MODEL_e2736ef7b4bb4926ade889eb0d9654c3",
              "IPY_MODEL_e5ba3e7839d3431680de50234a25a647"
            ],
            "layout": "IPY_MODEL_eaea36c9135440f3ab3b13deb9a99618"
          }
        },
        "c4e81554b4fb492e9009673ebf898a00": {
          "model_module": "@jupyter-widgets/controls",
          "model_name": "HTMLModel",
          "model_module_version": "1.5.0",
          "state": {
            "_dom_classes": [],
            "_model_module": "@jupyter-widgets/controls",
            "_model_module_version": "1.5.0",
            "_model_name": "HTMLModel",
            "_view_count": null,
            "_view_module": "@jupyter-widgets/controls",
            "_view_module_version": "1.5.0",
            "_view_name": "HTMLView",
            "description": "",
            "description_tooltip": null,
            "layout": "IPY_MODEL_ae018accdaae4334b82d4c26f1864953",
            "placeholder": "​",
            "style": "IPY_MODEL_aeb8c9e282ba46bea38a1800f7fc235a",
            "value": "<center> <img\nsrc=https://huggingface.co/front/assets/huggingface_logo-noborder.svg\nalt='Hugging Face'> <br> Copy a token from <a\nhref=\"https://huggingface.co/settings/tokens\" target=\"_blank\">your Hugging Face\ntokens page</a> and paste it below. <br> Immediately click login after copying\nyour token or it might be stored in plain text in this notebook file. </center>"
          }
        },
        "decab5ccb80e4113acb4a8825bca9bf8": {
          "model_module": "@jupyter-widgets/controls",
          "model_name": "PasswordModel",
          "model_module_version": "1.5.0",
          "state": {
            "_dom_classes": [],
            "_model_module": "@jupyter-widgets/controls",
            "_model_module_version": "1.5.0",
            "_model_name": "PasswordModel",
            "_view_count": null,
            "_view_module": "@jupyter-widgets/controls",
            "_view_module_version": "1.5.0",
            "_view_name": "PasswordView",
            "continuous_update": true,
            "description": "Token:",
            "description_tooltip": null,
            "disabled": false,
            "layout": "IPY_MODEL_4fc1aead89e64e35af8c209db1d06d35",
            "placeholder": "​",
            "style": "IPY_MODEL_7aecf42114ff4eb9873a9f0e889c9680",
            "value": ""
          }
        },
        "028f933e12eb476dad9f71b19d5d768a": {
          "model_module": "@jupyter-widgets/controls",
          "model_name": "CheckboxModel",
          "model_module_version": "1.5.0",
          "state": {
            "_dom_classes": [],
            "_model_module": "@jupyter-widgets/controls",
            "_model_module_version": "1.5.0",
            "_model_name": "CheckboxModel",
            "_view_count": null,
            "_view_module": "@jupyter-widgets/controls",
            "_view_module_version": "1.5.0",
            "_view_name": "CheckboxView",
            "description": "Add token as git credential?",
            "description_tooltip": null,
            "disabled": false,
            "indent": true,
            "layout": "IPY_MODEL_985c0508aa6d456b8251a1ae06b1d8b4",
            "style": "IPY_MODEL_beba4c975bc24ecd9ee04dd674c7c09d",
            "value": false
          }
        },
        "0350cf86d4f24a41b074b9b848eff607": {
          "model_module": "@jupyter-widgets/controls",
          "model_name": "ButtonModel",
          "model_module_version": "1.5.0",
          "state": {
            "_dom_classes": [],
            "_model_module": "@jupyter-widgets/controls",
            "_model_module_version": "1.5.0",
            "_model_name": "ButtonModel",
            "_view_count": null,
            "_view_module": "@jupyter-widgets/controls",
            "_view_module_version": "1.5.0",
            "_view_name": "ButtonView",
            "button_style": "",
            "description": "Login",
            "disabled": false,
            "icon": "",
            "layout": "IPY_MODEL_020dec072a754c628fb058b1011a8aa0",
            "style": "IPY_MODEL_828d7a82adcb4ceea7002a51579b27f0",
            "tooltip": ""
          }
        },
        "661104e079744dafa255f96175955e79": {
          "model_module": "@jupyter-widgets/controls",
          "model_name": "HTMLModel",
          "model_module_version": "1.5.0",
          "state": {
            "_dom_classes": [],
            "_model_module": "@jupyter-widgets/controls",
            "_model_module_version": "1.5.0",
            "_model_name": "HTMLModel",
            "_view_count": null,
            "_view_module": "@jupyter-widgets/controls",
            "_view_module_version": "1.5.0",
            "_view_name": "HTMLView",
            "description": "",
            "description_tooltip": null,
            "layout": "IPY_MODEL_ef2afd5c4cd942c68f0fd6fe95d8e635",
            "placeholder": "​",
            "style": "IPY_MODEL_ab311655bf2d4b15acb61621e0476087",
            "value": "\n<b>Pro Tip:</b> If you don't already have one, you can create a dedicated\n'notebooks' token with 'write' access, that you can then easily reuse for all\nnotebooks. </center>"
          }
        },
        "eaea36c9135440f3ab3b13deb9a99618": {
          "model_module": "@jupyter-widgets/base",
          "model_name": "LayoutModel",
          "model_module_version": "1.2.0",
          "state": {
            "_model_module": "@jupyter-widgets/base",
            "_model_module_version": "1.2.0",
            "_model_name": "LayoutModel",
            "_view_count": null,
            "_view_module": "@jupyter-widgets/base",
            "_view_module_version": "1.2.0",
            "_view_name": "LayoutView",
            "align_content": null,
            "align_items": "center",
            "align_self": null,
            "border": null,
            "bottom": null,
            "display": "flex",
            "flex": null,
            "flex_flow": "column",
            "grid_area": null,
            "grid_auto_columns": null,
            "grid_auto_flow": null,
            "grid_auto_rows": null,
            "grid_column": null,
            "grid_gap": null,
            "grid_row": null,
            "grid_template_areas": null,
            "grid_template_columns": null,
            "grid_template_rows": null,
            "height": null,
            "justify_content": null,
            "justify_items": null,
            "left": null,
            "margin": null,
            "max_height": null,
            "max_width": null,
            "min_height": null,
            "min_width": null,
            "object_fit": null,
            "object_position": null,
            "order": null,
            "overflow": null,
            "overflow_x": null,
            "overflow_y": null,
            "padding": null,
            "right": null,
            "top": null,
            "visibility": null,
            "width": "50%"
          }
        },
        "ae018accdaae4334b82d4c26f1864953": {
          "model_module": "@jupyter-widgets/base",
          "model_name": "LayoutModel",
          "model_module_version": "1.2.0",
          "state": {
            "_model_module": "@jupyter-widgets/base",
            "_model_module_version": "1.2.0",
            "_model_name": "LayoutModel",
            "_view_count": null,
            "_view_module": "@jupyter-widgets/base",
            "_view_module_version": "1.2.0",
            "_view_name": "LayoutView",
            "align_content": null,
            "align_items": null,
            "align_self": null,
            "border": null,
            "bottom": null,
            "display": null,
            "flex": null,
            "flex_flow": null,
            "grid_area": null,
            "grid_auto_columns": null,
            "grid_auto_flow": null,
            "grid_auto_rows": null,
            "grid_column": null,
            "grid_gap": null,
            "grid_row": null,
            "grid_template_areas": null,
            "grid_template_columns": null,
            "grid_template_rows": null,
            "height": null,
            "justify_content": null,
            "justify_items": null,
            "left": null,
            "margin": null,
            "max_height": null,
            "max_width": null,
            "min_height": null,
            "min_width": null,
            "object_fit": null,
            "object_position": null,
            "order": null,
            "overflow": null,
            "overflow_x": null,
            "overflow_y": null,
            "padding": null,
            "right": null,
            "top": null,
            "visibility": null,
            "width": null
          }
        },
        "aeb8c9e282ba46bea38a1800f7fc235a": {
          "model_module": "@jupyter-widgets/controls",
          "model_name": "DescriptionStyleModel",
          "model_module_version": "1.5.0",
          "state": {
            "_model_module": "@jupyter-widgets/controls",
            "_model_module_version": "1.5.0",
            "_model_name": "DescriptionStyleModel",
            "_view_count": null,
            "_view_module": "@jupyter-widgets/base",
            "_view_module_version": "1.2.0",
            "_view_name": "StyleView",
            "description_width": ""
          }
        },
        "4fc1aead89e64e35af8c209db1d06d35": {
          "model_module": "@jupyter-widgets/base",
          "model_name": "LayoutModel",
          "model_module_version": "1.2.0",
          "state": {
            "_model_module": "@jupyter-widgets/base",
            "_model_module_version": "1.2.0",
            "_model_name": "LayoutModel",
            "_view_count": null,
            "_view_module": "@jupyter-widgets/base",
            "_view_module_version": "1.2.0",
            "_view_name": "LayoutView",
            "align_content": null,
            "align_items": null,
            "align_self": null,
            "border": null,
            "bottom": null,
            "display": null,
            "flex": null,
            "flex_flow": null,
            "grid_area": null,
            "grid_auto_columns": null,
            "grid_auto_flow": null,
            "grid_auto_rows": null,
            "grid_column": null,
            "grid_gap": null,
            "grid_row": null,
            "grid_template_areas": null,
            "grid_template_columns": null,
            "grid_template_rows": null,
            "height": null,
            "justify_content": null,
            "justify_items": null,
            "left": null,
            "margin": null,
            "max_height": null,
            "max_width": null,
            "min_height": null,
            "min_width": null,
            "object_fit": null,
            "object_position": null,
            "order": null,
            "overflow": null,
            "overflow_x": null,
            "overflow_y": null,
            "padding": null,
            "right": null,
            "top": null,
            "visibility": null,
            "width": null
          }
        },
        "7aecf42114ff4eb9873a9f0e889c9680": {
          "model_module": "@jupyter-widgets/controls",
          "model_name": "DescriptionStyleModel",
          "model_module_version": "1.5.0",
          "state": {
            "_model_module": "@jupyter-widgets/controls",
            "_model_module_version": "1.5.0",
            "_model_name": "DescriptionStyleModel",
            "_view_count": null,
            "_view_module": "@jupyter-widgets/base",
            "_view_module_version": "1.2.0",
            "_view_name": "StyleView",
            "description_width": ""
          }
        },
        "985c0508aa6d456b8251a1ae06b1d8b4": {
          "model_module": "@jupyter-widgets/base",
          "model_name": "LayoutModel",
          "model_module_version": "1.2.0",
          "state": {
            "_model_module": "@jupyter-widgets/base",
            "_model_module_version": "1.2.0",
            "_model_name": "LayoutModel",
            "_view_count": null,
            "_view_module": "@jupyter-widgets/base",
            "_view_module_version": "1.2.0",
            "_view_name": "LayoutView",
            "align_content": null,
            "align_items": null,
            "align_self": null,
            "border": null,
            "bottom": null,
            "display": null,
            "flex": null,
            "flex_flow": null,
            "grid_area": null,
            "grid_auto_columns": null,
            "grid_auto_flow": null,
            "grid_auto_rows": null,
            "grid_column": null,
            "grid_gap": null,
            "grid_row": null,
            "grid_template_areas": null,
            "grid_template_columns": null,
            "grid_template_rows": null,
            "height": null,
            "justify_content": null,
            "justify_items": null,
            "left": null,
            "margin": null,
            "max_height": null,
            "max_width": null,
            "min_height": null,
            "min_width": null,
            "object_fit": null,
            "object_position": null,
            "order": null,
            "overflow": null,
            "overflow_x": null,
            "overflow_y": null,
            "padding": null,
            "right": null,
            "top": null,
            "visibility": null,
            "width": null
          }
        },
        "beba4c975bc24ecd9ee04dd674c7c09d": {
          "model_module": "@jupyter-widgets/controls",
          "model_name": "DescriptionStyleModel",
          "model_module_version": "1.5.0",
          "state": {
            "_model_module": "@jupyter-widgets/controls",
            "_model_module_version": "1.5.0",
            "_model_name": "DescriptionStyleModel",
            "_view_count": null,
            "_view_module": "@jupyter-widgets/base",
            "_view_module_version": "1.2.0",
            "_view_name": "StyleView",
            "description_width": ""
          }
        },
        "020dec072a754c628fb058b1011a8aa0": {
          "model_module": "@jupyter-widgets/base",
          "model_name": "LayoutModel",
          "model_module_version": "1.2.0",
          "state": {
            "_model_module": "@jupyter-widgets/base",
            "_model_module_version": "1.2.0",
            "_model_name": "LayoutModel",
            "_view_count": null,
            "_view_module": "@jupyter-widgets/base",
            "_view_module_version": "1.2.0",
            "_view_name": "LayoutView",
            "align_content": null,
            "align_items": null,
            "align_self": null,
            "border": null,
            "bottom": null,
            "display": null,
            "flex": null,
            "flex_flow": null,
            "grid_area": null,
            "grid_auto_columns": null,
            "grid_auto_flow": null,
            "grid_auto_rows": null,
            "grid_column": null,
            "grid_gap": null,
            "grid_row": null,
            "grid_template_areas": null,
            "grid_template_columns": null,
            "grid_template_rows": null,
            "height": null,
            "justify_content": null,
            "justify_items": null,
            "left": null,
            "margin": null,
            "max_height": null,
            "max_width": null,
            "min_height": null,
            "min_width": null,
            "object_fit": null,
            "object_position": null,
            "order": null,
            "overflow": null,
            "overflow_x": null,
            "overflow_y": null,
            "padding": null,
            "right": null,
            "top": null,
            "visibility": null,
            "width": null
          }
        },
        "828d7a82adcb4ceea7002a51579b27f0": {
          "model_module": "@jupyter-widgets/controls",
          "model_name": "ButtonStyleModel",
          "model_module_version": "1.5.0",
          "state": {
            "_model_module": "@jupyter-widgets/controls",
            "_model_module_version": "1.5.0",
            "_model_name": "ButtonStyleModel",
            "_view_count": null,
            "_view_module": "@jupyter-widgets/base",
            "_view_module_version": "1.2.0",
            "_view_name": "StyleView",
            "button_color": null,
            "font_weight": ""
          }
        },
        "ef2afd5c4cd942c68f0fd6fe95d8e635": {
          "model_module": "@jupyter-widgets/base",
          "model_name": "LayoutModel",
          "model_module_version": "1.2.0",
          "state": {
            "_model_module": "@jupyter-widgets/base",
            "_model_module_version": "1.2.0",
            "_model_name": "LayoutModel",
            "_view_count": null,
            "_view_module": "@jupyter-widgets/base",
            "_view_module_version": "1.2.0",
            "_view_name": "LayoutView",
            "align_content": null,
            "align_items": null,
            "align_self": null,
            "border": null,
            "bottom": null,
            "display": null,
            "flex": null,
            "flex_flow": null,
            "grid_area": null,
            "grid_auto_columns": null,
            "grid_auto_flow": null,
            "grid_auto_rows": null,
            "grid_column": null,
            "grid_gap": null,
            "grid_row": null,
            "grid_template_areas": null,
            "grid_template_columns": null,
            "grid_template_rows": null,
            "height": null,
            "justify_content": null,
            "justify_items": null,
            "left": null,
            "margin": null,
            "max_height": null,
            "max_width": null,
            "min_height": null,
            "min_width": null,
            "object_fit": null,
            "object_position": null,
            "order": null,
            "overflow": null,
            "overflow_x": null,
            "overflow_y": null,
            "padding": null,
            "right": null,
            "top": null,
            "visibility": null,
            "width": null
          }
        },
        "ab311655bf2d4b15acb61621e0476087": {
          "model_module": "@jupyter-widgets/controls",
          "model_name": "DescriptionStyleModel",
          "model_module_version": "1.5.0",
          "state": {
            "_model_module": "@jupyter-widgets/controls",
            "_model_module_version": "1.5.0",
            "_model_name": "DescriptionStyleModel",
            "_view_count": null,
            "_view_module": "@jupyter-widgets/base",
            "_view_module_version": "1.2.0",
            "_view_name": "StyleView",
            "description_width": ""
          }
        },
        "f31412c1dfc34e6a9858606c31994c51": {
          "model_module": "@jupyter-widgets/controls",
          "model_name": "LabelModel",
          "model_module_version": "1.5.0",
          "state": {
            "_dom_classes": [],
            "_model_module": "@jupyter-widgets/controls",
            "_model_module_version": "1.5.0",
            "_model_name": "LabelModel",
            "_view_count": null,
            "_view_module": "@jupyter-widgets/controls",
            "_view_module_version": "1.5.0",
            "_view_name": "LabelView",
            "description": "",
            "description_tooltip": null,
            "layout": "IPY_MODEL_19a83c1c95c348b68dff32f014806723",
            "placeholder": "​",
            "style": "IPY_MODEL_c6ad86666c9f4ae3abb1adcc1508bb58",
            "value": "Connecting..."
          }
        },
        "19a83c1c95c348b68dff32f014806723": {
          "model_module": "@jupyter-widgets/base",
          "model_name": "LayoutModel",
          "model_module_version": "1.2.0",
          "state": {
            "_model_module": "@jupyter-widgets/base",
            "_model_module_version": "1.2.0",
            "_model_name": "LayoutModel",
            "_view_count": null,
            "_view_module": "@jupyter-widgets/base",
            "_view_module_version": "1.2.0",
            "_view_name": "LayoutView",
            "align_content": null,
            "align_items": null,
            "align_self": null,
            "border": null,
            "bottom": null,
            "display": null,
            "flex": null,
            "flex_flow": null,
            "grid_area": null,
            "grid_auto_columns": null,
            "grid_auto_flow": null,
            "grid_auto_rows": null,
            "grid_column": null,
            "grid_gap": null,
            "grid_row": null,
            "grid_template_areas": null,
            "grid_template_columns": null,
            "grid_template_rows": null,
            "height": null,
            "justify_content": null,
            "justify_items": null,
            "left": null,
            "margin": null,
            "max_height": null,
            "max_width": null,
            "min_height": null,
            "min_width": null,
            "object_fit": null,
            "object_position": null,
            "order": null,
            "overflow": null,
            "overflow_x": null,
            "overflow_y": null,
            "padding": null,
            "right": null,
            "top": null,
            "visibility": null,
            "width": null
          }
        },
        "c6ad86666c9f4ae3abb1adcc1508bb58": {
          "model_module": "@jupyter-widgets/controls",
          "model_name": "DescriptionStyleModel",
          "model_module_version": "1.5.0",
          "state": {
            "_model_module": "@jupyter-widgets/controls",
            "_model_module_version": "1.5.0",
            "_model_name": "DescriptionStyleModel",
            "_view_count": null,
            "_view_module": "@jupyter-widgets/base",
            "_view_module_version": "1.2.0",
            "_view_name": "StyleView",
            "description_width": ""
          }
        },
        "2a7f4b05f28a4c77930ebc14ed6e4a15": {
          "model_module": "@jupyter-widgets/controls",
          "model_name": "LabelModel",
          "model_module_version": "1.5.0",
          "state": {
            "_dom_classes": [],
            "_model_module": "@jupyter-widgets/controls",
            "_model_module_version": "1.5.0",
            "_model_name": "LabelModel",
            "_view_count": null,
            "_view_module": "@jupyter-widgets/controls",
            "_view_module_version": "1.5.0",
            "_view_name": "LabelView",
            "description": "",
            "description_tooltip": null,
            "layout": "IPY_MODEL_ff90f2940dfc4850b190b9009ebc8e9c",
            "placeholder": "​",
            "style": "IPY_MODEL_009b1e88e12840bb83f564edfad1ea54",
            "value": "Token is valid (permission: write)."
          }
        },
        "e2736ef7b4bb4926ade889eb0d9654c3": {
          "model_module": "@jupyter-widgets/controls",
          "model_name": "LabelModel",
          "model_module_version": "1.5.0",
          "state": {
            "_dom_classes": [],
            "_model_module": "@jupyter-widgets/controls",
            "_model_module_version": "1.5.0",
            "_model_name": "LabelModel",
            "_view_count": null,
            "_view_module": "@jupyter-widgets/controls",
            "_view_module_version": "1.5.0",
            "_view_name": "LabelView",
            "description": "",
            "description_tooltip": null,
            "layout": "IPY_MODEL_917b8f816ef14611a94d63db283ab5af",
            "placeholder": "​",
            "style": "IPY_MODEL_91e940376be342b290d30816eb2d22f7",
            "value": "Your token has been saved to /root/.cache/huggingface/token"
          }
        },
        "e5ba3e7839d3431680de50234a25a647": {
          "model_module": "@jupyter-widgets/controls",
          "model_name": "LabelModel",
          "model_module_version": "1.5.0",
          "state": {
            "_dom_classes": [],
            "_model_module": "@jupyter-widgets/controls",
            "_model_module_version": "1.5.0",
            "_model_name": "LabelModel",
            "_view_count": null,
            "_view_module": "@jupyter-widgets/controls",
            "_view_module_version": "1.5.0",
            "_view_name": "LabelView",
            "description": "",
            "description_tooltip": null,
            "layout": "IPY_MODEL_7689c60cd89042fd87990438244b59ec",
            "placeholder": "​",
            "style": "IPY_MODEL_3147a37f17fd40c0bb821be3a0c0667c",
            "value": "Login successful"
          }
        },
        "ff90f2940dfc4850b190b9009ebc8e9c": {
          "model_module": "@jupyter-widgets/base",
          "model_name": "LayoutModel",
          "model_module_version": "1.2.0",
          "state": {
            "_model_module": "@jupyter-widgets/base",
            "_model_module_version": "1.2.0",
            "_model_name": "LayoutModel",
            "_view_count": null,
            "_view_module": "@jupyter-widgets/base",
            "_view_module_version": "1.2.0",
            "_view_name": "LayoutView",
            "align_content": null,
            "align_items": null,
            "align_self": null,
            "border": null,
            "bottom": null,
            "display": null,
            "flex": null,
            "flex_flow": null,
            "grid_area": null,
            "grid_auto_columns": null,
            "grid_auto_flow": null,
            "grid_auto_rows": null,
            "grid_column": null,
            "grid_gap": null,
            "grid_row": null,
            "grid_template_areas": null,
            "grid_template_columns": null,
            "grid_template_rows": null,
            "height": null,
            "justify_content": null,
            "justify_items": null,
            "left": null,
            "margin": null,
            "max_height": null,
            "max_width": null,
            "min_height": null,
            "min_width": null,
            "object_fit": null,
            "object_position": null,
            "order": null,
            "overflow": null,
            "overflow_x": null,
            "overflow_y": null,
            "padding": null,
            "right": null,
            "top": null,
            "visibility": null,
            "width": null
          }
        },
        "009b1e88e12840bb83f564edfad1ea54": {
          "model_module": "@jupyter-widgets/controls",
          "model_name": "DescriptionStyleModel",
          "model_module_version": "1.5.0",
          "state": {
            "_model_module": "@jupyter-widgets/controls",
            "_model_module_version": "1.5.0",
            "_model_name": "DescriptionStyleModel",
            "_view_count": null,
            "_view_module": "@jupyter-widgets/base",
            "_view_module_version": "1.2.0",
            "_view_name": "StyleView",
            "description_width": ""
          }
        },
        "917b8f816ef14611a94d63db283ab5af": {
          "model_module": "@jupyter-widgets/base",
          "model_name": "LayoutModel",
          "model_module_version": "1.2.0",
          "state": {
            "_model_module": "@jupyter-widgets/base",
            "_model_module_version": "1.2.0",
            "_model_name": "LayoutModel",
            "_view_count": null,
            "_view_module": "@jupyter-widgets/base",
            "_view_module_version": "1.2.0",
            "_view_name": "LayoutView",
            "align_content": null,
            "align_items": null,
            "align_self": null,
            "border": null,
            "bottom": null,
            "display": null,
            "flex": null,
            "flex_flow": null,
            "grid_area": null,
            "grid_auto_columns": null,
            "grid_auto_flow": null,
            "grid_auto_rows": null,
            "grid_column": null,
            "grid_gap": null,
            "grid_row": null,
            "grid_template_areas": null,
            "grid_template_columns": null,
            "grid_template_rows": null,
            "height": null,
            "justify_content": null,
            "justify_items": null,
            "left": null,
            "margin": null,
            "max_height": null,
            "max_width": null,
            "min_height": null,
            "min_width": null,
            "object_fit": null,
            "object_position": null,
            "order": null,
            "overflow": null,
            "overflow_x": null,
            "overflow_y": null,
            "padding": null,
            "right": null,
            "top": null,
            "visibility": null,
            "width": null
          }
        },
        "91e940376be342b290d30816eb2d22f7": {
          "model_module": "@jupyter-widgets/controls",
          "model_name": "DescriptionStyleModel",
          "model_module_version": "1.5.0",
          "state": {
            "_model_module": "@jupyter-widgets/controls",
            "_model_module_version": "1.5.0",
            "_model_name": "DescriptionStyleModel",
            "_view_count": null,
            "_view_module": "@jupyter-widgets/base",
            "_view_module_version": "1.2.0",
            "_view_name": "StyleView",
            "description_width": ""
          }
        },
        "7689c60cd89042fd87990438244b59ec": {
          "model_module": "@jupyter-widgets/base",
          "model_name": "LayoutModel",
          "model_module_version": "1.2.0",
          "state": {
            "_model_module": "@jupyter-widgets/base",
            "_model_module_version": "1.2.0",
            "_model_name": "LayoutModel",
            "_view_count": null,
            "_view_module": "@jupyter-widgets/base",
            "_view_module_version": "1.2.0",
            "_view_name": "LayoutView",
            "align_content": null,
            "align_items": null,
            "align_self": null,
            "border": null,
            "bottom": null,
            "display": null,
            "flex": null,
            "flex_flow": null,
            "grid_area": null,
            "grid_auto_columns": null,
            "grid_auto_flow": null,
            "grid_auto_rows": null,
            "grid_column": null,
            "grid_gap": null,
            "grid_row": null,
            "grid_template_areas": null,
            "grid_template_columns": null,
            "grid_template_rows": null,
            "height": null,
            "justify_content": null,
            "justify_items": null,
            "left": null,
            "margin": null,
            "max_height": null,
            "max_width": null,
            "min_height": null,
            "min_width": null,
            "object_fit": null,
            "object_position": null,
            "order": null,
            "overflow": null,
            "overflow_x": null,
            "overflow_y": null,
            "padding": null,
            "right": null,
            "top": null,
            "visibility": null,
            "width": null
          }
        },
        "3147a37f17fd40c0bb821be3a0c0667c": {
          "model_module": "@jupyter-widgets/controls",
          "model_name": "DescriptionStyleModel",
          "model_module_version": "1.5.0",
          "state": {
            "_model_module": "@jupyter-widgets/controls",
            "_model_module_version": "1.5.0",
            "_model_name": "DescriptionStyleModel",
            "_view_count": null,
            "_view_module": "@jupyter-widgets/base",
            "_view_module_version": "1.2.0",
            "_view_name": "StyleView",
            "description_width": ""
          }
        },
        "b8f03242519447beaa6cce2a6e2975b5": {
          "model_module": "@jupyter-widgets/controls",
          "model_name": "HBoxModel",
          "model_module_version": "1.5.0",
          "state": {
            "_dom_classes": [],
            "_model_module": "@jupyter-widgets/controls",
            "_model_module_version": "1.5.0",
            "_model_name": "HBoxModel",
            "_view_count": null,
            "_view_module": "@jupyter-widgets/controls",
            "_view_module_version": "1.5.0",
            "_view_name": "HBoxView",
            "box_style": "",
            "children": [
              "IPY_MODEL_fee130b74499414aa490949c5f4b6cb2",
              "IPY_MODEL_8c11c74304664cb98cc023ae25410f82",
              "IPY_MODEL_946fe46522d547f98eaa69a77a7f33c6"
            ],
            "layout": "IPY_MODEL_c1c5fe1ba6a64ec3947d35e771c842f0"
          }
        },
        "fee130b74499414aa490949c5f4b6cb2": {
          "model_module": "@jupyter-widgets/controls",
          "model_name": "HTMLModel",
          "model_module_version": "1.5.0",
          "state": {
            "_dom_classes": [],
            "_model_module": "@jupyter-widgets/controls",
            "_model_module_version": "1.5.0",
            "_model_name": "HTMLModel",
            "_view_count": null,
            "_view_module": "@jupyter-widgets/controls",
            "_view_module_version": "1.5.0",
            "_view_name": "HTMLView",
            "description": "",
            "description_tooltip": null,
            "layout": "IPY_MODEL_b3ef4afd4fe446c0a360b14ea8660aab",
            "placeholder": "​",
            "style": "IPY_MODEL_e64cf8f54c824d02825e2cdea70889dc",
            "value": "100%"
          }
        },
        "8c11c74304664cb98cc023ae25410f82": {
          "model_module": "@jupyter-widgets/controls",
          "model_name": "FloatProgressModel",
          "model_module_version": "1.5.0",
          "state": {
            "_dom_classes": [],
            "_model_module": "@jupyter-widgets/controls",
            "_model_module_version": "1.5.0",
            "_model_name": "FloatProgressModel",
            "_view_count": null,
            "_view_module": "@jupyter-widgets/controls",
            "_view_module_version": "1.5.0",
            "_view_name": "ProgressView",
            "bar_style": "success",
            "description": "",
            "description_tooltip": null,
            "layout": "IPY_MODEL_933d00b1f0234f7e9dda9eba94abf9ee",
            "max": 3,
            "min": 0,
            "orientation": "horizontal",
            "style": "IPY_MODEL_da083823ec5c47c8bc567b1c3031594a",
            "value": 3
          }
        },
        "946fe46522d547f98eaa69a77a7f33c6": {
          "model_module": "@jupyter-widgets/controls",
          "model_name": "HTMLModel",
          "model_module_version": "1.5.0",
          "state": {
            "_dom_classes": [],
            "_model_module": "@jupyter-widgets/controls",
            "_model_module_version": "1.5.0",
            "_model_name": "HTMLModel",
            "_view_count": null,
            "_view_module": "@jupyter-widgets/controls",
            "_view_module_version": "1.5.0",
            "_view_name": "HTMLView",
            "description": "",
            "description_tooltip": null,
            "layout": "IPY_MODEL_8bd3c2dda66d4a82b3583970b420ba68",
            "placeholder": "​",
            "style": "IPY_MODEL_d6cde39ce6a348a49845c1a1ed6a8d86",
            "value": " 3/3 [00:00&lt;00:00, 193.40it/s]"
          }
        },
        "c1c5fe1ba6a64ec3947d35e771c842f0": {
          "model_module": "@jupyter-widgets/base",
          "model_name": "LayoutModel",
          "model_module_version": "1.2.0",
          "state": {
            "_model_module": "@jupyter-widgets/base",
            "_model_module_version": "1.2.0",
            "_model_name": "LayoutModel",
            "_view_count": null,
            "_view_module": "@jupyter-widgets/base",
            "_view_module_version": "1.2.0",
            "_view_name": "LayoutView",
            "align_content": null,
            "align_items": null,
            "align_self": null,
            "border": null,
            "bottom": null,
            "display": null,
            "flex": null,
            "flex_flow": null,
            "grid_area": null,
            "grid_auto_columns": null,
            "grid_auto_flow": null,
            "grid_auto_rows": null,
            "grid_column": null,
            "grid_gap": null,
            "grid_row": null,
            "grid_template_areas": null,
            "grid_template_columns": null,
            "grid_template_rows": null,
            "height": null,
            "justify_content": null,
            "justify_items": null,
            "left": null,
            "margin": null,
            "max_height": null,
            "max_width": null,
            "min_height": null,
            "min_width": null,
            "object_fit": null,
            "object_position": null,
            "order": null,
            "overflow": null,
            "overflow_x": null,
            "overflow_y": null,
            "padding": null,
            "right": null,
            "top": null,
            "visibility": null,
            "width": null
          }
        },
        "b3ef4afd4fe446c0a360b14ea8660aab": {
          "model_module": "@jupyter-widgets/base",
          "model_name": "LayoutModel",
          "model_module_version": "1.2.0",
          "state": {
            "_model_module": "@jupyter-widgets/base",
            "_model_module_version": "1.2.0",
            "_model_name": "LayoutModel",
            "_view_count": null,
            "_view_module": "@jupyter-widgets/base",
            "_view_module_version": "1.2.0",
            "_view_name": "LayoutView",
            "align_content": null,
            "align_items": null,
            "align_self": null,
            "border": null,
            "bottom": null,
            "display": null,
            "flex": null,
            "flex_flow": null,
            "grid_area": null,
            "grid_auto_columns": null,
            "grid_auto_flow": null,
            "grid_auto_rows": null,
            "grid_column": null,
            "grid_gap": null,
            "grid_row": null,
            "grid_template_areas": null,
            "grid_template_columns": null,
            "grid_template_rows": null,
            "height": null,
            "justify_content": null,
            "justify_items": null,
            "left": null,
            "margin": null,
            "max_height": null,
            "max_width": null,
            "min_height": null,
            "min_width": null,
            "object_fit": null,
            "object_position": null,
            "order": null,
            "overflow": null,
            "overflow_x": null,
            "overflow_y": null,
            "padding": null,
            "right": null,
            "top": null,
            "visibility": null,
            "width": null
          }
        },
        "e64cf8f54c824d02825e2cdea70889dc": {
          "model_module": "@jupyter-widgets/controls",
          "model_name": "DescriptionStyleModel",
          "model_module_version": "1.5.0",
          "state": {
            "_model_module": "@jupyter-widgets/controls",
            "_model_module_version": "1.5.0",
            "_model_name": "DescriptionStyleModel",
            "_view_count": null,
            "_view_module": "@jupyter-widgets/base",
            "_view_module_version": "1.2.0",
            "_view_name": "StyleView",
            "description_width": ""
          }
        },
        "933d00b1f0234f7e9dda9eba94abf9ee": {
          "model_module": "@jupyter-widgets/base",
          "model_name": "LayoutModel",
          "model_module_version": "1.2.0",
          "state": {
            "_model_module": "@jupyter-widgets/base",
            "_model_module_version": "1.2.0",
            "_model_name": "LayoutModel",
            "_view_count": null,
            "_view_module": "@jupyter-widgets/base",
            "_view_module_version": "1.2.0",
            "_view_name": "LayoutView",
            "align_content": null,
            "align_items": null,
            "align_self": null,
            "border": null,
            "bottom": null,
            "display": null,
            "flex": null,
            "flex_flow": null,
            "grid_area": null,
            "grid_auto_columns": null,
            "grid_auto_flow": null,
            "grid_auto_rows": null,
            "grid_column": null,
            "grid_gap": null,
            "grid_row": null,
            "grid_template_areas": null,
            "grid_template_columns": null,
            "grid_template_rows": null,
            "height": null,
            "justify_content": null,
            "justify_items": null,
            "left": null,
            "margin": null,
            "max_height": null,
            "max_width": null,
            "min_height": null,
            "min_width": null,
            "object_fit": null,
            "object_position": null,
            "order": null,
            "overflow": null,
            "overflow_x": null,
            "overflow_y": null,
            "padding": null,
            "right": null,
            "top": null,
            "visibility": null,
            "width": null
          }
        },
        "da083823ec5c47c8bc567b1c3031594a": {
          "model_module": "@jupyter-widgets/controls",
          "model_name": "ProgressStyleModel",
          "model_module_version": "1.5.0",
          "state": {
            "_model_module": "@jupyter-widgets/controls",
            "_model_module_version": "1.5.0",
            "_model_name": "ProgressStyleModel",
            "_view_count": null,
            "_view_module": "@jupyter-widgets/base",
            "_view_module_version": "1.2.0",
            "_view_name": "StyleView",
            "bar_color": null,
            "description_width": ""
          }
        },
        "8bd3c2dda66d4a82b3583970b420ba68": {
          "model_module": "@jupyter-widgets/base",
          "model_name": "LayoutModel",
          "model_module_version": "1.2.0",
          "state": {
            "_model_module": "@jupyter-widgets/base",
            "_model_module_version": "1.2.0",
            "_model_name": "LayoutModel",
            "_view_count": null,
            "_view_module": "@jupyter-widgets/base",
            "_view_module_version": "1.2.0",
            "_view_name": "LayoutView",
            "align_content": null,
            "align_items": null,
            "align_self": null,
            "border": null,
            "bottom": null,
            "display": null,
            "flex": null,
            "flex_flow": null,
            "grid_area": null,
            "grid_auto_columns": null,
            "grid_auto_flow": null,
            "grid_auto_rows": null,
            "grid_column": null,
            "grid_gap": null,
            "grid_row": null,
            "grid_template_areas": null,
            "grid_template_columns": null,
            "grid_template_rows": null,
            "height": null,
            "justify_content": null,
            "justify_items": null,
            "left": null,
            "margin": null,
            "max_height": null,
            "max_width": null,
            "min_height": null,
            "min_width": null,
            "object_fit": null,
            "object_position": null,
            "order": null,
            "overflow": null,
            "overflow_x": null,
            "overflow_y": null,
            "padding": null,
            "right": null,
            "top": null,
            "visibility": null,
            "width": null
          }
        },
        "d6cde39ce6a348a49845c1a1ed6a8d86": {
          "model_module": "@jupyter-widgets/controls",
          "model_name": "DescriptionStyleModel",
          "model_module_version": "1.5.0",
          "state": {
            "_model_module": "@jupyter-widgets/controls",
            "_model_module_version": "1.5.0",
            "_model_name": "DescriptionStyleModel",
            "_view_count": null,
            "_view_module": "@jupyter-widgets/base",
            "_view_module_version": "1.2.0",
            "_view_name": "StyleView",
            "description_width": ""
          }
        },
        "5c8ad461fe704dbe96d98ffbcb6f7652": {
          "model_module": "@jupyter-widgets/controls",
          "model_name": "HBoxModel",
          "model_module_version": "1.5.0",
          "state": {
            "_dom_classes": [],
            "_model_module": "@jupyter-widgets/controls",
            "_model_module_version": "1.5.0",
            "_model_name": "HBoxModel",
            "_view_count": null,
            "_view_module": "@jupyter-widgets/controls",
            "_view_module_version": "1.5.0",
            "_view_name": "HBoxView",
            "box_style": "",
            "children": [
              "IPY_MODEL_a631c753749f4e0aad0ae8af59e5627f",
              "IPY_MODEL_fc89140e3ea94c9baea4afc121b28257",
              "IPY_MODEL_a12cc9ea820640b4bdd87c1db74afe6a"
            ],
            "layout": "IPY_MODEL_b5fdb3680f60466b8d3f9628816ce67c"
          }
        },
        "a631c753749f4e0aad0ae8af59e5627f": {
          "model_module": "@jupyter-widgets/controls",
          "model_name": "HTMLModel",
          "model_module_version": "1.5.0",
          "state": {
            "_dom_classes": [],
            "_model_module": "@jupyter-widgets/controls",
            "_model_module_version": "1.5.0",
            "_model_name": "HTMLModel",
            "_view_count": null,
            "_view_module": "@jupyter-widgets/controls",
            "_view_module_version": "1.5.0",
            "_view_name": "HTMLView",
            "description": "",
            "description_tooltip": null,
            "layout": "IPY_MODEL_6b1c56c0f7ce41918dd8885d737c8fdf",
            "placeholder": "​",
            "style": "IPY_MODEL_88e35b19b55f4e4199081b35b132bce9",
            "value": "Upload file runs/Jun12_07-44-54_32324690376c/events.out.tfevents.1686555907.32324690376c.8733.7: 100%"
          }
        },
        "fc89140e3ea94c9baea4afc121b28257": {
          "model_module": "@jupyter-widgets/controls",
          "model_name": "FloatProgressModel",
          "model_module_version": "1.5.0",
          "state": {
            "_dom_classes": [],
            "_model_module": "@jupyter-widgets/controls",
            "_model_module_version": "1.5.0",
            "_model_name": "FloatProgressModel",
            "_view_count": null,
            "_view_module": "@jupyter-widgets/controls",
            "_view_module_version": "1.5.0",
            "_view_name": "ProgressView",
            "bar_style": "success",
            "description": "",
            "description_tooltip": null,
            "layout": "IPY_MODEL_1e8dda4861c0451fa6eb1eb3f19dce8a",
            "max": 8543,
            "min": 0,
            "orientation": "horizontal",
            "style": "IPY_MODEL_6cb40eab4a444a6eb023445d74713c4d",
            "value": 8543
          }
        },
        "a12cc9ea820640b4bdd87c1db74afe6a": {
          "model_module": "@jupyter-widgets/controls",
          "model_name": "HTMLModel",
          "model_module_version": "1.5.0",
          "state": {
            "_dom_classes": [],
            "_model_module": "@jupyter-widgets/controls",
            "_model_module_version": "1.5.0",
            "_model_name": "HTMLModel",
            "_view_count": null,
            "_view_module": "@jupyter-widgets/controls",
            "_view_module_version": "1.5.0",
            "_view_name": "HTMLView",
            "description": "",
            "description_tooltip": null,
            "layout": "IPY_MODEL_34b88c07750c45a7a2e84b33632caff7",
            "placeholder": "​",
            "style": "IPY_MODEL_45e1066e2fe1400185f45f4a1d0490ff",
            "value": " 8.34k/8.34k [00:01&lt;00:00, 15.6MB/s]"
          }
        },
        "b5fdb3680f60466b8d3f9628816ce67c": {
          "model_module": "@jupyter-widgets/base",
          "model_name": "LayoutModel",
          "model_module_version": "1.2.0",
          "state": {
            "_model_module": "@jupyter-widgets/base",
            "_model_module_version": "1.2.0",
            "_model_name": "LayoutModel",
            "_view_count": null,
            "_view_module": "@jupyter-widgets/base",
            "_view_module_version": "1.2.0",
            "_view_name": "LayoutView",
            "align_content": null,
            "align_items": null,
            "align_self": null,
            "border": null,
            "bottom": null,
            "display": null,
            "flex": null,
            "flex_flow": null,
            "grid_area": null,
            "grid_auto_columns": null,
            "grid_auto_flow": null,
            "grid_auto_rows": null,
            "grid_column": null,
            "grid_gap": null,
            "grid_row": null,
            "grid_template_areas": null,
            "grid_template_columns": null,
            "grid_template_rows": null,
            "height": null,
            "justify_content": null,
            "justify_items": null,
            "left": null,
            "margin": null,
            "max_height": null,
            "max_width": null,
            "min_height": null,
            "min_width": null,
            "object_fit": null,
            "object_position": null,
            "order": null,
            "overflow": null,
            "overflow_x": null,
            "overflow_y": null,
            "padding": null,
            "right": null,
            "top": null,
            "visibility": null,
            "width": null
          }
        },
        "6b1c56c0f7ce41918dd8885d737c8fdf": {
          "model_module": "@jupyter-widgets/base",
          "model_name": "LayoutModel",
          "model_module_version": "1.2.0",
          "state": {
            "_model_module": "@jupyter-widgets/base",
            "_model_module_version": "1.2.0",
            "_model_name": "LayoutModel",
            "_view_count": null,
            "_view_module": "@jupyter-widgets/base",
            "_view_module_version": "1.2.0",
            "_view_name": "LayoutView",
            "align_content": null,
            "align_items": null,
            "align_self": null,
            "border": null,
            "bottom": null,
            "display": null,
            "flex": null,
            "flex_flow": null,
            "grid_area": null,
            "grid_auto_columns": null,
            "grid_auto_flow": null,
            "grid_auto_rows": null,
            "grid_column": null,
            "grid_gap": null,
            "grid_row": null,
            "grid_template_areas": null,
            "grid_template_columns": null,
            "grid_template_rows": null,
            "height": null,
            "justify_content": null,
            "justify_items": null,
            "left": null,
            "margin": null,
            "max_height": null,
            "max_width": null,
            "min_height": null,
            "min_width": null,
            "object_fit": null,
            "object_position": null,
            "order": null,
            "overflow": null,
            "overflow_x": null,
            "overflow_y": null,
            "padding": null,
            "right": null,
            "top": null,
            "visibility": null,
            "width": null
          }
        },
        "88e35b19b55f4e4199081b35b132bce9": {
          "model_module": "@jupyter-widgets/controls",
          "model_name": "DescriptionStyleModel",
          "model_module_version": "1.5.0",
          "state": {
            "_model_module": "@jupyter-widgets/controls",
            "_model_module_version": "1.5.0",
            "_model_name": "DescriptionStyleModel",
            "_view_count": null,
            "_view_module": "@jupyter-widgets/base",
            "_view_module_version": "1.2.0",
            "_view_name": "StyleView",
            "description_width": ""
          }
        },
        "1e8dda4861c0451fa6eb1eb3f19dce8a": {
          "model_module": "@jupyter-widgets/base",
          "model_name": "LayoutModel",
          "model_module_version": "1.2.0",
          "state": {
            "_model_module": "@jupyter-widgets/base",
            "_model_module_version": "1.2.0",
            "_model_name": "LayoutModel",
            "_view_count": null,
            "_view_module": "@jupyter-widgets/base",
            "_view_module_version": "1.2.0",
            "_view_name": "LayoutView",
            "align_content": null,
            "align_items": null,
            "align_self": null,
            "border": null,
            "bottom": null,
            "display": null,
            "flex": null,
            "flex_flow": null,
            "grid_area": null,
            "grid_auto_columns": null,
            "grid_auto_flow": null,
            "grid_auto_rows": null,
            "grid_column": null,
            "grid_gap": null,
            "grid_row": null,
            "grid_template_areas": null,
            "grid_template_columns": null,
            "grid_template_rows": null,
            "height": null,
            "justify_content": null,
            "justify_items": null,
            "left": null,
            "margin": null,
            "max_height": null,
            "max_width": null,
            "min_height": null,
            "min_width": null,
            "object_fit": null,
            "object_position": null,
            "order": null,
            "overflow": null,
            "overflow_x": null,
            "overflow_y": null,
            "padding": null,
            "right": null,
            "top": null,
            "visibility": null,
            "width": null
          }
        },
        "6cb40eab4a444a6eb023445d74713c4d": {
          "model_module": "@jupyter-widgets/controls",
          "model_name": "ProgressStyleModel",
          "model_module_version": "1.5.0",
          "state": {
            "_model_module": "@jupyter-widgets/controls",
            "_model_module_version": "1.5.0",
            "_model_name": "ProgressStyleModel",
            "_view_count": null,
            "_view_module": "@jupyter-widgets/base",
            "_view_module_version": "1.2.0",
            "_view_name": "StyleView",
            "bar_color": null,
            "description_width": ""
          }
        },
        "34b88c07750c45a7a2e84b33632caff7": {
          "model_module": "@jupyter-widgets/base",
          "model_name": "LayoutModel",
          "model_module_version": "1.2.0",
          "state": {
            "_model_module": "@jupyter-widgets/base",
            "_model_module_version": "1.2.0",
            "_model_name": "LayoutModel",
            "_view_count": null,
            "_view_module": "@jupyter-widgets/base",
            "_view_module_version": "1.2.0",
            "_view_name": "LayoutView",
            "align_content": null,
            "align_items": null,
            "align_self": null,
            "border": null,
            "bottom": null,
            "display": null,
            "flex": null,
            "flex_flow": null,
            "grid_area": null,
            "grid_auto_columns": null,
            "grid_auto_flow": null,
            "grid_auto_rows": null,
            "grid_column": null,
            "grid_gap": null,
            "grid_row": null,
            "grid_template_areas": null,
            "grid_template_columns": null,
            "grid_template_rows": null,
            "height": null,
            "justify_content": null,
            "justify_items": null,
            "left": null,
            "margin": null,
            "max_height": null,
            "max_width": null,
            "min_height": null,
            "min_width": null,
            "object_fit": null,
            "object_position": null,
            "order": null,
            "overflow": null,
            "overflow_x": null,
            "overflow_y": null,
            "padding": null,
            "right": null,
            "top": null,
            "visibility": null,
            "width": null
          }
        },
        "45e1066e2fe1400185f45f4a1d0490ff": {
          "model_module": "@jupyter-widgets/controls",
          "model_name": "DescriptionStyleModel",
          "model_module_version": "1.5.0",
          "state": {
            "_model_module": "@jupyter-widgets/controls",
            "_model_module_version": "1.5.0",
            "_model_name": "DescriptionStyleModel",
            "_view_count": null,
            "_view_module": "@jupyter-widgets/base",
            "_view_module_version": "1.2.0",
            "_view_name": "StyleView",
            "description_width": ""
          }
        },
        "c6f2dfd831a54c668a0e6be7c3cfd6a9": {
          "model_module": "@jupyter-widgets/controls",
          "model_name": "HBoxModel",
          "model_module_version": "1.5.0",
          "state": {
            "_dom_classes": [],
            "_model_module": "@jupyter-widgets/controls",
            "_model_module_version": "1.5.0",
            "_model_name": "HBoxModel",
            "_view_count": null,
            "_view_module": "@jupyter-widgets/controls",
            "_view_module_version": "1.5.0",
            "_view_name": "HBoxView",
            "box_style": "",
            "children": [
              "IPY_MODEL_c84128ce74894e3d91edd6f78595665f",
              "IPY_MODEL_494668a66dbc444bbd15f3fe7e441716",
              "IPY_MODEL_21bd659bbdda45f4b942e5a7f72d61d7"
            ],
            "layout": "IPY_MODEL_0af6784ee434448b8ab02e148b9fff56"
          }
        },
        "c84128ce74894e3d91edd6f78595665f": {
          "model_module": "@jupyter-widgets/controls",
          "model_name": "HTMLModel",
          "model_module_version": "1.5.0",
          "state": {
            "_dom_classes": [],
            "_model_module": "@jupyter-widgets/controls",
            "_model_module_version": "1.5.0",
            "_model_name": "HTMLModel",
            "_view_count": null,
            "_view_module": "@jupyter-widgets/controls",
            "_view_module_version": "1.5.0",
            "_view_name": "HTMLView",
            "description": "",
            "description_tooltip": null,
            "layout": "IPY_MODEL_d803fd69dc074412a74c385b7ba8764f",
            "placeholder": "​",
            "style": "IPY_MODEL_9a226eefacff4cff803f7935590d35df",
            "value": "Upload file training_args.bin: 100%"
          }
        },
        "494668a66dbc444bbd15f3fe7e441716": {
          "model_module": "@jupyter-widgets/controls",
          "model_name": "FloatProgressModel",
          "model_module_version": "1.5.0",
          "state": {
            "_dom_classes": [],
            "_model_module": "@jupyter-widgets/controls",
            "_model_module_version": "1.5.0",
            "_model_name": "FloatProgressModel",
            "_view_count": null,
            "_view_module": "@jupyter-widgets/controls",
            "_view_module_version": "1.5.0",
            "_view_name": "ProgressView",
            "bar_style": "success",
            "description": "",
            "description_tooltip": null,
            "layout": "IPY_MODEL_b665222514ce46d6a6cb40e2918401f2",
            "max": 3963,
            "min": 0,
            "orientation": "horizontal",
            "style": "IPY_MODEL_e256ae05c13d407d8ad1bbde666c48f7",
            "value": 3963
          }
        },
        "21bd659bbdda45f4b942e5a7f72d61d7": {
          "model_module": "@jupyter-widgets/controls",
          "model_name": "HTMLModel",
          "model_module_version": "1.5.0",
          "state": {
            "_dom_classes": [],
            "_model_module": "@jupyter-widgets/controls",
            "_model_module_version": "1.5.0",
            "_model_name": "HTMLModel",
            "_view_count": null,
            "_view_module": "@jupyter-widgets/controls",
            "_view_module_version": "1.5.0",
            "_view_name": "HTMLView",
            "description": "",
            "description_tooltip": null,
            "layout": "IPY_MODEL_1aefa42120974ef3aa8683953192de3c",
            "placeholder": "​",
            "style": "IPY_MODEL_ff3ccd5dd0f344afac78383b6d5b909a",
            "value": " 3.87k/3.87k [00:01&lt;00:00, 15.8MB/s]"
          }
        },
        "0af6784ee434448b8ab02e148b9fff56": {
          "model_module": "@jupyter-widgets/base",
          "model_name": "LayoutModel",
          "model_module_version": "1.2.0",
          "state": {
            "_model_module": "@jupyter-widgets/base",
            "_model_module_version": "1.2.0",
            "_model_name": "LayoutModel",
            "_view_count": null,
            "_view_module": "@jupyter-widgets/base",
            "_view_module_version": "1.2.0",
            "_view_name": "LayoutView",
            "align_content": null,
            "align_items": null,
            "align_self": null,
            "border": null,
            "bottom": null,
            "display": null,
            "flex": null,
            "flex_flow": null,
            "grid_area": null,
            "grid_auto_columns": null,
            "grid_auto_flow": null,
            "grid_auto_rows": null,
            "grid_column": null,
            "grid_gap": null,
            "grid_row": null,
            "grid_template_areas": null,
            "grid_template_columns": null,
            "grid_template_rows": null,
            "height": null,
            "justify_content": null,
            "justify_items": null,
            "left": null,
            "margin": null,
            "max_height": null,
            "max_width": null,
            "min_height": null,
            "min_width": null,
            "object_fit": null,
            "object_position": null,
            "order": null,
            "overflow": null,
            "overflow_x": null,
            "overflow_y": null,
            "padding": null,
            "right": null,
            "top": null,
            "visibility": null,
            "width": null
          }
        },
        "d803fd69dc074412a74c385b7ba8764f": {
          "model_module": "@jupyter-widgets/base",
          "model_name": "LayoutModel",
          "model_module_version": "1.2.0",
          "state": {
            "_model_module": "@jupyter-widgets/base",
            "_model_module_version": "1.2.0",
            "_model_name": "LayoutModel",
            "_view_count": null,
            "_view_module": "@jupyter-widgets/base",
            "_view_module_version": "1.2.0",
            "_view_name": "LayoutView",
            "align_content": null,
            "align_items": null,
            "align_self": null,
            "border": null,
            "bottom": null,
            "display": null,
            "flex": null,
            "flex_flow": null,
            "grid_area": null,
            "grid_auto_columns": null,
            "grid_auto_flow": null,
            "grid_auto_rows": null,
            "grid_column": null,
            "grid_gap": null,
            "grid_row": null,
            "grid_template_areas": null,
            "grid_template_columns": null,
            "grid_template_rows": null,
            "height": null,
            "justify_content": null,
            "justify_items": null,
            "left": null,
            "margin": null,
            "max_height": null,
            "max_width": null,
            "min_height": null,
            "min_width": null,
            "object_fit": null,
            "object_position": null,
            "order": null,
            "overflow": null,
            "overflow_x": null,
            "overflow_y": null,
            "padding": null,
            "right": null,
            "top": null,
            "visibility": null,
            "width": null
          }
        },
        "9a226eefacff4cff803f7935590d35df": {
          "model_module": "@jupyter-widgets/controls",
          "model_name": "DescriptionStyleModel",
          "model_module_version": "1.5.0",
          "state": {
            "_model_module": "@jupyter-widgets/controls",
            "_model_module_version": "1.5.0",
            "_model_name": "DescriptionStyleModel",
            "_view_count": null,
            "_view_module": "@jupyter-widgets/base",
            "_view_module_version": "1.2.0",
            "_view_name": "StyleView",
            "description_width": ""
          }
        },
        "b665222514ce46d6a6cb40e2918401f2": {
          "model_module": "@jupyter-widgets/base",
          "model_name": "LayoutModel",
          "model_module_version": "1.2.0",
          "state": {
            "_model_module": "@jupyter-widgets/base",
            "_model_module_version": "1.2.0",
            "_model_name": "LayoutModel",
            "_view_count": null,
            "_view_module": "@jupyter-widgets/base",
            "_view_module_version": "1.2.0",
            "_view_name": "LayoutView",
            "align_content": null,
            "align_items": null,
            "align_self": null,
            "border": null,
            "bottom": null,
            "display": null,
            "flex": null,
            "flex_flow": null,
            "grid_area": null,
            "grid_auto_columns": null,
            "grid_auto_flow": null,
            "grid_auto_rows": null,
            "grid_column": null,
            "grid_gap": null,
            "grid_row": null,
            "grid_template_areas": null,
            "grid_template_columns": null,
            "grid_template_rows": null,
            "height": null,
            "justify_content": null,
            "justify_items": null,
            "left": null,
            "margin": null,
            "max_height": null,
            "max_width": null,
            "min_height": null,
            "min_width": null,
            "object_fit": null,
            "object_position": null,
            "order": null,
            "overflow": null,
            "overflow_x": null,
            "overflow_y": null,
            "padding": null,
            "right": null,
            "top": null,
            "visibility": null,
            "width": null
          }
        },
        "e256ae05c13d407d8ad1bbde666c48f7": {
          "model_module": "@jupyter-widgets/controls",
          "model_name": "ProgressStyleModel",
          "model_module_version": "1.5.0",
          "state": {
            "_model_module": "@jupyter-widgets/controls",
            "_model_module_version": "1.5.0",
            "_model_name": "ProgressStyleModel",
            "_view_count": null,
            "_view_module": "@jupyter-widgets/base",
            "_view_module_version": "1.2.0",
            "_view_name": "StyleView",
            "bar_color": null,
            "description_width": ""
          }
        },
        "1aefa42120974ef3aa8683953192de3c": {
          "model_module": "@jupyter-widgets/base",
          "model_name": "LayoutModel",
          "model_module_version": "1.2.0",
          "state": {
            "_model_module": "@jupyter-widgets/base",
            "_model_module_version": "1.2.0",
            "_model_name": "LayoutModel",
            "_view_count": null,
            "_view_module": "@jupyter-widgets/base",
            "_view_module_version": "1.2.0",
            "_view_name": "LayoutView",
            "align_content": null,
            "align_items": null,
            "align_self": null,
            "border": null,
            "bottom": null,
            "display": null,
            "flex": null,
            "flex_flow": null,
            "grid_area": null,
            "grid_auto_columns": null,
            "grid_auto_flow": null,
            "grid_auto_rows": null,
            "grid_column": null,
            "grid_gap": null,
            "grid_row": null,
            "grid_template_areas": null,
            "grid_template_columns": null,
            "grid_template_rows": null,
            "height": null,
            "justify_content": null,
            "justify_items": null,
            "left": null,
            "margin": null,
            "max_height": null,
            "max_width": null,
            "min_height": null,
            "min_width": null,
            "object_fit": null,
            "object_position": null,
            "order": null,
            "overflow": null,
            "overflow_x": null,
            "overflow_y": null,
            "padding": null,
            "right": null,
            "top": null,
            "visibility": null,
            "width": null
          }
        },
        "ff3ccd5dd0f344afac78383b6d5b909a": {
          "model_module": "@jupyter-widgets/controls",
          "model_name": "DescriptionStyleModel",
          "model_module_version": "1.5.0",
          "state": {
            "_model_module": "@jupyter-widgets/controls",
            "_model_module_version": "1.5.0",
            "_model_name": "DescriptionStyleModel",
            "_view_count": null,
            "_view_module": "@jupyter-widgets/base",
            "_view_module_version": "1.2.0",
            "_view_name": "StyleView",
            "description_width": ""
          }
        }
      }
    },
    "accelerator": "GPU",
    "gpuClass": "standard"
  },
  "cells": [
    {
      "cell_type": "markdown",
      "metadata": {
        "id": "view-in-github",
        "colab_type": "text"
      },
      "source": [
        "<a href=\"https://colab.research.google.com/github/marendtz/ModelNER/blob/master/XLMR_finetune_pan_and_custom.ipynb\" target=\"_parent\"><img src=\"https://colab.research.google.com/assets/colab-badge.svg\" alt=\"Open In Colab\"/></a>"
      ]
    },
    {
      "cell_type": "markdown",
      "source": [
        "**Preparations**"
      ],
      "metadata": {
        "id": "8wOOf8-SYD1I"
      }
    },
    {
      "cell_type": "code",
      "source": [
        "# for debugging: clean up model\n",
        "import shutil\n",
        "try:\n",
        "  shutil.rmtree('/content/maren-hugg/xlm-roberta-base-finetuned-panx-en-news')\n",
        "except:\n",
        "  print(\"no such folder\")"
      ],
      "metadata": {
        "id": "xvQSqB5SxNFY"
      },
      "execution_count": 44,
      "outputs": []
    },
    {
      "cell_type": "code",
      "source": [
        "# get github access token for collab\n",
        "import getpass\n",
        "token = getpass.getpass()"
      ],
      "metadata": {
        "colab": {
          "base_uri": "https://localhost:8080/"
        },
        "id": "IWCm19HMZAFN",
        "outputId": "5dc790a3-a24e-4f5b-b528-1a5d8fa6d683"
      },
      "execution_count": 3,
      "outputs": [
        {
          "name": "stdout",
          "output_type": "stream",
          "text": [
            "··········\n"
          ]
        }
      ]
    },
    {
      "cell_type": "code",
      "source": [
        "# clean workdir\n",
        "%cd /content/\n",
        "%rm -r /content/*\n",
        "%ls -la\n",
        "%pwd"
      ],
      "metadata": {
        "colab": {
          "base_uri": "https://localhost:8080/",
          "height": 122
        },
        "id": "FesltGt6VmIW",
        "outputId": "d72b4c4d-ccd2-43dd-9283-fe43221ee9a3"
      },
      "execution_count": 4,
      "outputs": [
        {
          "output_type": "stream",
          "name": "stdout",
          "text": [
            "/content\n",
            "total 16\n",
            "drwxr-xr-x 1 root root 4096 Jun 12 06:48 \u001b[0m\u001b[01;34m.\u001b[0m/\n",
            "drwxr-xr-x 1 root root 4096 Jun 12 06:05 \u001b[01;34m..\u001b[0m/\n",
            "drwxr-xr-x 4 root root 4096 Jun  8 18:17 \u001b[01;34m.config\u001b[0m/\n"
          ]
        },
        {
          "output_type": "execute_result",
          "data": {
            "text/plain": [
              "'/content'"
            ],
            "application/vnd.google.colaboratory.intrinsic+json": {
              "type": "string"
            }
          },
          "metadata": {},
          "execution_count": 4
        }
      ]
    },
    {
      "cell_type": "code",
      "source": [
        "# clone github repo\n",
        "!git clone https://{token}@github.com/marendtz/ModelNER.git"
      ],
      "metadata": {
        "colab": {
          "base_uri": "https://localhost:8080/"
        },
        "id": "XEyMOa-KU2o4",
        "outputId": "d2ca482f-2876-4be4-e3f0-9759092499d4"
      },
      "execution_count": 5,
      "outputs": [
        {
          "output_type": "stream",
          "name": "stdout",
          "text": [
            "Cloning into 'ModelNER'...\n",
            "remote: Enumerating objects: 57, done.\u001b[K\n",
            "remote: Counting objects: 100% (57/57), done.\u001b[K\n",
            "remote: Compressing objects: 100% (49/49), done.\u001b[K\n",
            "remote: Total 57 (delta 29), reused 23 (delta 7), pack-reused 0\u001b[K\n",
            "Unpacking objects: 100% (57/57), 841.16 KiB | 2.34 MiB/s, done.\n"
          ]
        }
      ]
    },
    {
      "cell_type": "code",
      "source": [
        "# install dependencies\n",
        "%pip install -r /content/ModelNER/requirements.txt"
      ],
      "metadata": {
        "id": "LVCEfji7V_NF",
        "outputId": "b5f33efd-c40e-4cb2-a04d-61c405633ca9",
        "colab": {
          "base_uri": "https://localhost:8080/"
        }
      },
      "execution_count": 6,
      "outputs": [
        {
          "output_type": "stream",
          "name": "stdout",
          "text": [
            "Looking in indexes: https://pypi.org/simple, https://us-python.pkg.dev/colab-wheels/public/simple/\n",
            "Requirement already satisfied: transformers in /usr/local/lib/python3.10/dist-packages (from -r /content/ModelNER/requirements.txt (line 3)) (4.30.1)\n",
            "Requirement already satisfied: datasets in /usr/local/lib/python3.10/dist-packages (from -r /content/ModelNER/requirements.txt (line 4)) (2.12.0)\n",
            "Requirement already satisfied: matplotlib in /usr/local/lib/python3.10/dist-packages (from -r /content/ModelNER/requirements.txt (line 5)) (3.7.1)\n",
            "Requirement already satisfied: pandas in /usr/local/lib/python3.10/dist-packages (from -r /content/ModelNER/requirements.txt (line 6)) (1.5.3)\n",
            "Requirement already satisfied: ipywidgets in /usr/local/lib/python3.10/dist-packages (from -r /content/ModelNER/requirements.txt (line 7)) (7.7.1)\n",
            "Requirement already satisfied: seqeval==1.2.2 in /usr/local/lib/python3.10/dist-packages (from -r /content/ModelNER/requirements.txt (line 8)) (1.2.2)\n",
            "Requirement already satisfied: evaluate in /usr/local/lib/python3.10/dist-packages (from -r /content/ModelNER/requirements.txt (line 9)) (0.4.0)\n",
            "Requirement already satisfied: accelerate>=0.20.1 in /usr/local/lib/python3.10/dist-packages (from -r /content/ModelNER/requirements.txt (line 10)) (0.20.3)\n",
            "Requirement already satisfied: numpy>=1.14.0 in /usr/local/lib/python3.10/dist-packages (from seqeval==1.2.2->-r /content/ModelNER/requirements.txt (line 8)) (1.22.4)\n",
            "Requirement already satisfied: scikit-learn>=0.21.3 in /usr/local/lib/python3.10/dist-packages (from seqeval==1.2.2->-r /content/ModelNER/requirements.txt (line 8)) (1.2.2)\n",
            "Requirement already satisfied: filelock in /usr/local/lib/python3.10/dist-packages (from transformers->-r /content/ModelNER/requirements.txt (line 3)) (3.12.0)\n",
            "Requirement already satisfied: huggingface-hub<1.0,>=0.14.1 in /usr/local/lib/python3.10/dist-packages (from transformers->-r /content/ModelNER/requirements.txt (line 3)) (0.15.1)\n",
            "Requirement already satisfied: packaging>=20.0 in /usr/local/lib/python3.10/dist-packages (from transformers->-r /content/ModelNER/requirements.txt (line 3)) (23.1)\n",
            "Requirement already satisfied: pyyaml>=5.1 in /usr/local/lib/python3.10/dist-packages (from transformers->-r /content/ModelNER/requirements.txt (line 3)) (6.0)\n",
            "Requirement already satisfied: regex!=2019.12.17 in /usr/local/lib/python3.10/dist-packages (from transformers->-r /content/ModelNER/requirements.txt (line 3)) (2022.10.31)\n",
            "Requirement already satisfied: requests in /usr/local/lib/python3.10/dist-packages (from transformers->-r /content/ModelNER/requirements.txt (line 3)) (2.27.1)\n",
            "Requirement already satisfied: tokenizers!=0.11.3,<0.14,>=0.11.1 in /usr/local/lib/python3.10/dist-packages (from transformers->-r /content/ModelNER/requirements.txt (line 3)) (0.13.3)\n",
            "Requirement already satisfied: safetensors>=0.3.1 in /usr/local/lib/python3.10/dist-packages (from transformers->-r /content/ModelNER/requirements.txt (line 3)) (0.3.1)\n",
            "Requirement already satisfied: tqdm>=4.27 in /usr/local/lib/python3.10/dist-packages (from transformers->-r /content/ModelNER/requirements.txt (line 3)) (4.65.0)\n",
            "Requirement already satisfied: pyarrow>=8.0.0 in /usr/local/lib/python3.10/dist-packages (from datasets->-r /content/ModelNER/requirements.txt (line 4)) (9.0.0)\n",
            "Requirement already satisfied: dill<0.3.7,>=0.3.0 in /usr/local/lib/python3.10/dist-packages (from datasets->-r /content/ModelNER/requirements.txt (line 4)) (0.3.6)\n",
            "Requirement already satisfied: xxhash in /usr/local/lib/python3.10/dist-packages (from datasets->-r /content/ModelNER/requirements.txt (line 4)) (3.2.0)\n",
            "Requirement already satisfied: multiprocess in /usr/local/lib/python3.10/dist-packages (from datasets->-r /content/ModelNER/requirements.txt (line 4)) (0.70.14)\n",
            "Requirement already satisfied: fsspec[http]>=2021.11.1 in /usr/local/lib/python3.10/dist-packages (from datasets->-r /content/ModelNER/requirements.txt (line 4)) (2023.4.0)\n",
            "Requirement already satisfied: aiohttp in /usr/local/lib/python3.10/dist-packages (from datasets->-r /content/ModelNER/requirements.txt (line 4)) (3.8.4)\n",
            "Requirement already satisfied: responses<0.19 in /usr/local/lib/python3.10/dist-packages (from datasets->-r /content/ModelNER/requirements.txt (line 4)) (0.18.0)\n",
            "Requirement already satisfied: contourpy>=1.0.1 in /usr/local/lib/python3.10/dist-packages (from matplotlib->-r /content/ModelNER/requirements.txt (line 5)) (1.0.7)\n",
            "Requirement already satisfied: cycler>=0.10 in /usr/local/lib/python3.10/dist-packages (from matplotlib->-r /content/ModelNER/requirements.txt (line 5)) (0.11.0)\n",
            "Requirement already satisfied: fonttools>=4.22.0 in /usr/local/lib/python3.10/dist-packages (from matplotlib->-r /content/ModelNER/requirements.txt (line 5)) (4.39.3)\n",
            "Requirement already satisfied: kiwisolver>=1.0.1 in /usr/local/lib/python3.10/dist-packages (from matplotlib->-r /content/ModelNER/requirements.txt (line 5)) (1.4.4)\n",
            "Requirement already satisfied: pillow>=6.2.0 in /usr/local/lib/python3.10/dist-packages (from matplotlib->-r /content/ModelNER/requirements.txt (line 5)) (8.4.0)\n",
            "Requirement already satisfied: pyparsing>=2.3.1 in /usr/local/lib/python3.10/dist-packages (from matplotlib->-r /content/ModelNER/requirements.txt (line 5)) (3.0.9)\n",
            "Requirement already satisfied: python-dateutil>=2.7 in /usr/local/lib/python3.10/dist-packages (from matplotlib->-r /content/ModelNER/requirements.txt (line 5)) (2.8.2)\n",
            "Requirement already satisfied: pytz>=2020.1 in /usr/local/lib/python3.10/dist-packages (from pandas->-r /content/ModelNER/requirements.txt (line 6)) (2022.7.1)\n",
            "Requirement already satisfied: ipykernel>=4.5.1 in /usr/local/lib/python3.10/dist-packages (from ipywidgets->-r /content/ModelNER/requirements.txt (line 7)) (5.5.6)\n",
            "Requirement already satisfied: ipython-genutils~=0.2.0 in /usr/local/lib/python3.10/dist-packages (from ipywidgets->-r /content/ModelNER/requirements.txt (line 7)) (0.2.0)\n",
            "Requirement already satisfied: traitlets>=4.3.1 in /usr/local/lib/python3.10/dist-packages (from ipywidgets->-r /content/ModelNER/requirements.txt (line 7)) (5.7.1)\n",
            "Requirement already satisfied: widgetsnbextension~=3.6.0 in /usr/local/lib/python3.10/dist-packages (from ipywidgets->-r /content/ModelNER/requirements.txt (line 7)) (3.6.4)\n",
            "Requirement already satisfied: ipython>=4.0.0 in /usr/local/lib/python3.10/dist-packages (from ipywidgets->-r /content/ModelNER/requirements.txt (line 7)) (7.34.0)\n",
            "Requirement already satisfied: jupyterlab-widgets>=1.0.0 in /usr/local/lib/python3.10/dist-packages (from ipywidgets->-r /content/ModelNER/requirements.txt (line 7)) (3.0.7)\n",
            "Requirement already satisfied: psutil in /usr/local/lib/python3.10/dist-packages (from accelerate>=0.20.1->-r /content/ModelNER/requirements.txt (line 10)) (5.9.5)\n",
            "Requirement already satisfied: torch>=1.6.0 in /usr/local/lib/python3.10/dist-packages (from accelerate>=0.20.1->-r /content/ModelNER/requirements.txt (line 10)) (2.0.1+cu118)\n",
            "Requirement already satisfied: attrs>=17.3.0 in /usr/local/lib/python3.10/dist-packages (from aiohttp->datasets->-r /content/ModelNER/requirements.txt (line 4)) (23.1.0)\n",
            "Requirement already satisfied: charset-normalizer<4.0,>=2.0 in /usr/local/lib/python3.10/dist-packages (from aiohttp->datasets->-r /content/ModelNER/requirements.txt (line 4)) (2.0.12)\n",
            "Requirement already satisfied: multidict<7.0,>=4.5 in /usr/local/lib/python3.10/dist-packages (from aiohttp->datasets->-r /content/ModelNER/requirements.txt (line 4)) (6.0.4)\n",
            "Requirement already satisfied: async-timeout<5.0,>=4.0.0a3 in /usr/local/lib/python3.10/dist-packages (from aiohttp->datasets->-r /content/ModelNER/requirements.txt (line 4)) (4.0.2)\n",
            "Requirement already satisfied: yarl<2.0,>=1.0 in /usr/local/lib/python3.10/dist-packages (from aiohttp->datasets->-r /content/ModelNER/requirements.txt (line 4)) (1.9.2)\n",
            "Requirement already satisfied: frozenlist>=1.1.1 in /usr/local/lib/python3.10/dist-packages (from aiohttp->datasets->-r /content/ModelNER/requirements.txt (line 4)) (1.3.3)\n",
            "Requirement already satisfied: aiosignal>=1.1.2 in /usr/local/lib/python3.10/dist-packages (from aiohttp->datasets->-r /content/ModelNER/requirements.txt (line 4)) (1.3.1)\n",
            "Requirement already satisfied: typing-extensions>=3.7.4.3 in /usr/local/lib/python3.10/dist-packages (from huggingface-hub<1.0,>=0.14.1->transformers->-r /content/ModelNER/requirements.txt (line 3)) (4.5.0)\n",
            "Requirement already satisfied: jupyter-client in /usr/local/lib/python3.10/dist-packages (from ipykernel>=4.5.1->ipywidgets->-r /content/ModelNER/requirements.txt (line 7)) (6.1.12)\n",
            "Requirement already satisfied: tornado>=4.2 in /usr/local/lib/python3.10/dist-packages (from ipykernel>=4.5.1->ipywidgets->-r /content/ModelNER/requirements.txt (line 7)) (6.3.1)\n",
            "Requirement already satisfied: setuptools>=18.5 in /usr/local/lib/python3.10/dist-packages (from ipython>=4.0.0->ipywidgets->-r /content/ModelNER/requirements.txt (line 7)) (67.7.2)\n",
            "Requirement already satisfied: jedi>=0.16 in /usr/local/lib/python3.10/dist-packages (from ipython>=4.0.0->ipywidgets->-r /content/ModelNER/requirements.txt (line 7)) (0.18.2)\n",
            "Requirement already satisfied: decorator in /usr/local/lib/python3.10/dist-packages (from ipython>=4.0.0->ipywidgets->-r /content/ModelNER/requirements.txt (line 7)) (4.4.2)\n",
            "Requirement already satisfied: pickleshare in /usr/local/lib/python3.10/dist-packages (from ipython>=4.0.0->ipywidgets->-r /content/ModelNER/requirements.txt (line 7)) (0.7.5)\n",
            "Requirement already satisfied: prompt-toolkit!=3.0.0,!=3.0.1,<3.1.0,>=2.0.0 in /usr/local/lib/python3.10/dist-packages (from ipython>=4.0.0->ipywidgets->-r /content/ModelNER/requirements.txt (line 7)) (3.0.38)\n",
            "Requirement already satisfied: pygments in /usr/local/lib/python3.10/dist-packages (from ipython>=4.0.0->ipywidgets->-r /content/ModelNER/requirements.txt (line 7)) (2.14.0)\n",
            "Requirement already satisfied: backcall in /usr/local/lib/python3.10/dist-packages (from ipython>=4.0.0->ipywidgets->-r /content/ModelNER/requirements.txt (line 7)) (0.2.0)\n",
            "Requirement already satisfied: matplotlib-inline in /usr/local/lib/python3.10/dist-packages (from ipython>=4.0.0->ipywidgets->-r /content/ModelNER/requirements.txt (line 7)) (0.1.6)\n",
            "Requirement already satisfied: pexpect>4.3 in /usr/local/lib/python3.10/dist-packages (from ipython>=4.0.0->ipywidgets->-r /content/ModelNER/requirements.txt (line 7)) (4.8.0)\n",
            "Requirement already satisfied: six>=1.5 in /usr/local/lib/python3.10/dist-packages (from python-dateutil>=2.7->matplotlib->-r /content/ModelNER/requirements.txt (line 5)) (1.16.0)\n",
            "Requirement already satisfied: urllib3<1.27,>=1.21.1 in /usr/local/lib/python3.10/dist-packages (from requests->transformers->-r /content/ModelNER/requirements.txt (line 3)) (1.26.15)\n",
            "Requirement already satisfied: certifi>=2017.4.17 in /usr/local/lib/python3.10/dist-packages (from requests->transformers->-r /content/ModelNER/requirements.txt (line 3)) (2022.12.7)\n",
            "Requirement already satisfied: idna<4,>=2.5 in /usr/local/lib/python3.10/dist-packages (from requests->transformers->-r /content/ModelNER/requirements.txt (line 3)) (3.4)\n",
            "Requirement already satisfied: scipy>=1.3.2 in /usr/local/lib/python3.10/dist-packages (from scikit-learn>=0.21.3->seqeval==1.2.2->-r /content/ModelNER/requirements.txt (line 8)) (1.10.1)\n",
            "Requirement already satisfied: joblib>=1.1.1 in /usr/local/lib/python3.10/dist-packages (from scikit-learn>=0.21.3->seqeval==1.2.2->-r /content/ModelNER/requirements.txt (line 8)) (1.2.0)\n",
            "Requirement already satisfied: threadpoolctl>=2.0.0 in /usr/local/lib/python3.10/dist-packages (from scikit-learn>=0.21.3->seqeval==1.2.2->-r /content/ModelNER/requirements.txt (line 8)) (3.1.0)\n",
            "Requirement already satisfied: sympy in /usr/local/lib/python3.10/dist-packages (from torch>=1.6.0->accelerate>=0.20.1->-r /content/ModelNER/requirements.txt (line 10)) (1.11.1)\n",
            "Requirement already satisfied: networkx in /usr/local/lib/python3.10/dist-packages (from torch>=1.6.0->accelerate>=0.20.1->-r /content/ModelNER/requirements.txt (line 10)) (3.1)\n",
            "Requirement already satisfied: jinja2 in /usr/local/lib/python3.10/dist-packages (from torch>=1.6.0->accelerate>=0.20.1->-r /content/ModelNER/requirements.txt (line 10)) (3.1.2)\n",
            "Requirement already satisfied: triton==2.0.0 in /usr/local/lib/python3.10/dist-packages (from torch>=1.6.0->accelerate>=0.20.1->-r /content/ModelNER/requirements.txt (line 10)) (2.0.0)\n",
            "Requirement already satisfied: cmake in /usr/local/lib/python3.10/dist-packages (from triton==2.0.0->torch>=1.6.0->accelerate>=0.20.1->-r /content/ModelNER/requirements.txt (line 10)) (3.25.2)\n",
            "Requirement already satisfied: lit in /usr/local/lib/python3.10/dist-packages (from triton==2.0.0->torch>=1.6.0->accelerate>=0.20.1->-r /content/ModelNER/requirements.txt (line 10)) (16.0.5)\n",
            "Requirement already satisfied: notebook>=4.4.1 in /usr/local/lib/python3.10/dist-packages (from widgetsnbextension~=3.6.0->ipywidgets->-r /content/ModelNER/requirements.txt (line 7)) (6.4.8)\n",
            "Requirement already satisfied: parso<0.9.0,>=0.8.0 in /usr/local/lib/python3.10/dist-packages (from jedi>=0.16->ipython>=4.0.0->ipywidgets->-r /content/ModelNER/requirements.txt (line 7)) (0.8.3)\n",
            "Requirement already satisfied: pyzmq>=17 in /usr/local/lib/python3.10/dist-packages (from notebook>=4.4.1->widgetsnbextension~=3.6.0->ipywidgets->-r /content/ModelNER/requirements.txt (line 7)) (23.2.1)\n",
            "Requirement already satisfied: argon2-cffi in /usr/local/lib/python3.10/dist-packages (from notebook>=4.4.1->widgetsnbextension~=3.6.0->ipywidgets->-r /content/ModelNER/requirements.txt (line 7)) (21.3.0)\n",
            "Requirement already satisfied: jupyter-core>=4.6.1 in /usr/local/lib/python3.10/dist-packages (from notebook>=4.4.1->widgetsnbextension~=3.6.0->ipywidgets->-r /content/ModelNER/requirements.txt (line 7)) (5.3.0)\n",
            "Requirement already satisfied: nbformat in /usr/local/lib/python3.10/dist-packages (from notebook>=4.4.1->widgetsnbextension~=3.6.0->ipywidgets->-r /content/ModelNER/requirements.txt (line 7)) (5.8.0)\n",
            "Requirement already satisfied: nbconvert in /usr/local/lib/python3.10/dist-packages (from notebook>=4.4.1->widgetsnbextension~=3.6.0->ipywidgets->-r /content/ModelNER/requirements.txt (line 7)) (6.5.4)\n",
            "Requirement already satisfied: nest-asyncio>=1.5 in /usr/local/lib/python3.10/dist-packages (from notebook>=4.4.1->widgetsnbextension~=3.6.0->ipywidgets->-r /content/ModelNER/requirements.txt (line 7)) (1.5.6)\n",
            "Requirement already satisfied: Send2Trash>=1.8.0 in /usr/local/lib/python3.10/dist-packages (from notebook>=4.4.1->widgetsnbextension~=3.6.0->ipywidgets->-r /content/ModelNER/requirements.txt (line 7)) (1.8.0)\n",
            "Requirement already satisfied: terminado>=0.8.3 in /usr/local/lib/python3.10/dist-packages (from notebook>=4.4.1->widgetsnbextension~=3.6.0->ipywidgets->-r /content/ModelNER/requirements.txt (line 7)) (0.17.1)\n",
            "Requirement already satisfied: prometheus-client in /usr/local/lib/python3.10/dist-packages (from notebook>=4.4.1->widgetsnbextension~=3.6.0->ipywidgets->-r /content/ModelNER/requirements.txt (line 7)) (0.16.0)\n",
            "Requirement already satisfied: ptyprocess>=0.5 in /usr/local/lib/python3.10/dist-packages (from pexpect>4.3->ipython>=4.0.0->ipywidgets->-r /content/ModelNER/requirements.txt (line 7)) (0.7.0)\n",
            "Requirement already satisfied: wcwidth in /usr/local/lib/python3.10/dist-packages (from prompt-toolkit!=3.0.0,!=3.0.1,<3.1.0,>=2.0.0->ipython>=4.0.0->ipywidgets->-r /content/ModelNER/requirements.txt (line 7)) (0.2.6)\n",
            "Requirement already satisfied: MarkupSafe>=2.0 in /usr/local/lib/python3.10/dist-packages (from jinja2->torch>=1.6.0->accelerate>=0.20.1->-r /content/ModelNER/requirements.txt (line 10)) (2.1.2)\n",
            "Requirement already satisfied: mpmath>=0.19 in /usr/local/lib/python3.10/dist-packages (from sympy->torch>=1.6.0->accelerate>=0.20.1->-r /content/ModelNER/requirements.txt (line 10)) (1.3.0)\n",
            "Requirement already satisfied: platformdirs>=2.5 in /usr/local/lib/python3.10/dist-packages (from jupyter-core>=4.6.1->notebook>=4.4.1->widgetsnbextension~=3.6.0->ipywidgets->-r /content/ModelNER/requirements.txt (line 7)) (3.3.0)\n",
            "Requirement already satisfied: argon2-cffi-bindings in /usr/local/lib/python3.10/dist-packages (from argon2-cffi->notebook>=4.4.1->widgetsnbextension~=3.6.0->ipywidgets->-r /content/ModelNER/requirements.txt (line 7)) (21.2.0)\n",
            "Requirement already satisfied: lxml in /usr/local/lib/python3.10/dist-packages (from nbconvert->notebook>=4.4.1->widgetsnbextension~=3.6.0->ipywidgets->-r /content/ModelNER/requirements.txt (line 7)) (4.9.2)\n",
            "Requirement already satisfied: beautifulsoup4 in /usr/local/lib/python3.10/dist-packages (from nbconvert->notebook>=4.4.1->widgetsnbextension~=3.6.0->ipywidgets->-r /content/ModelNER/requirements.txt (line 7)) (4.11.2)\n",
            "Requirement already satisfied: bleach in /usr/local/lib/python3.10/dist-packages (from nbconvert->notebook>=4.4.1->widgetsnbextension~=3.6.0->ipywidgets->-r /content/ModelNER/requirements.txt (line 7)) (6.0.0)\n",
            "Requirement already satisfied: defusedxml in /usr/local/lib/python3.10/dist-packages (from nbconvert->notebook>=4.4.1->widgetsnbextension~=3.6.0->ipywidgets->-r /content/ModelNER/requirements.txt (line 7)) (0.7.1)\n",
            "Requirement already satisfied: entrypoints>=0.2.2 in /usr/local/lib/python3.10/dist-packages (from nbconvert->notebook>=4.4.1->widgetsnbextension~=3.6.0->ipywidgets->-r /content/ModelNER/requirements.txt (line 7)) (0.4)\n",
            "Requirement already satisfied: jupyterlab-pygments in /usr/local/lib/python3.10/dist-packages (from nbconvert->notebook>=4.4.1->widgetsnbextension~=3.6.0->ipywidgets->-r /content/ModelNER/requirements.txt (line 7)) (0.2.2)\n",
            "Requirement already satisfied: mistune<2,>=0.8.1 in /usr/local/lib/python3.10/dist-packages (from nbconvert->notebook>=4.4.1->widgetsnbextension~=3.6.0->ipywidgets->-r /content/ModelNER/requirements.txt (line 7)) (0.8.4)\n",
            "Requirement already satisfied: nbclient>=0.5.0 in /usr/local/lib/python3.10/dist-packages (from nbconvert->notebook>=4.4.1->widgetsnbextension~=3.6.0->ipywidgets->-r /content/ModelNER/requirements.txt (line 7)) (0.7.4)\n",
            "Requirement already satisfied: pandocfilters>=1.4.1 in /usr/local/lib/python3.10/dist-packages (from nbconvert->notebook>=4.4.1->widgetsnbextension~=3.6.0->ipywidgets->-r /content/ModelNER/requirements.txt (line 7)) (1.5.0)\n",
            "Requirement already satisfied: tinycss2 in /usr/local/lib/python3.10/dist-packages (from nbconvert->notebook>=4.4.1->widgetsnbextension~=3.6.0->ipywidgets->-r /content/ModelNER/requirements.txt (line 7)) (1.2.1)\n",
            "Requirement already satisfied: fastjsonschema in /usr/local/lib/python3.10/dist-packages (from nbformat->notebook>=4.4.1->widgetsnbextension~=3.6.0->ipywidgets->-r /content/ModelNER/requirements.txt (line 7)) (2.16.3)\n",
            "Requirement already satisfied: jsonschema>=2.6 in /usr/local/lib/python3.10/dist-packages (from nbformat->notebook>=4.4.1->widgetsnbextension~=3.6.0->ipywidgets->-r /content/ModelNER/requirements.txt (line 7)) (4.3.3)\n",
            "Requirement already satisfied: pyrsistent!=0.17.0,!=0.17.1,!=0.17.2,>=0.14.0 in /usr/local/lib/python3.10/dist-packages (from jsonschema>=2.6->nbformat->notebook>=4.4.1->widgetsnbextension~=3.6.0->ipywidgets->-r /content/ModelNER/requirements.txt (line 7)) (0.19.3)\n",
            "Requirement already satisfied: cffi>=1.0.1 in /usr/local/lib/python3.10/dist-packages (from argon2-cffi-bindings->argon2-cffi->notebook>=4.4.1->widgetsnbextension~=3.6.0->ipywidgets->-r /content/ModelNER/requirements.txt (line 7)) (1.15.1)\n",
            "Requirement already satisfied: soupsieve>1.2 in /usr/local/lib/python3.10/dist-packages (from beautifulsoup4->nbconvert->notebook>=4.4.1->widgetsnbextension~=3.6.0->ipywidgets->-r /content/ModelNER/requirements.txt (line 7)) (2.4.1)\n",
            "Requirement already satisfied: webencodings in /usr/local/lib/python3.10/dist-packages (from bleach->nbconvert->notebook>=4.4.1->widgetsnbextension~=3.6.0->ipywidgets->-r /content/ModelNER/requirements.txt (line 7)) (0.5.1)\n",
            "Requirement already satisfied: pycparser in /usr/local/lib/python3.10/dist-packages (from cffi>=1.0.1->argon2-cffi-bindings->argon2-cffi->notebook>=4.4.1->widgetsnbextension~=3.6.0->ipywidgets->-r /content/ModelNER/requirements.txt (line 7)) (2.21)\n"
          ]
        }
      ]
    },
    {
      "cell_type": "code",
      "source": [
        "# import packages\n",
        "from collections import defaultdict\n",
        "import pandas as pd\n",
        "import numpy as np\n",
        "from datasets import load_dataset_builder, get_dataset_config_names, load_dataset, DatasetDict\n",
        "\n",
        "from transformers import AutoTokenizer, TrainingArguments, DataCollatorForTokenClassification, Trainer\n",
        "import nltk.data\n",
        "nltk.download('punkt')\n",
        "\n",
        "import torch.nn as nn\n",
        "from transformers import XLMRobertaConfig, AutoConfig, XLMRobertaForTokenClassification\n",
        "from transformers.modeling_outputs import TokenClassifierOutput\n",
        "\n",
        "from huggingface_hub import notebook_login\n",
        "from seqeval.metrics import f1_score, precision_score, recall_score, accuracy_score, classification_report\n",
        "from seqeval.scheme import IOB2\n",
        "\n",
        "\n",
        "from torch.nn.functional import cross_entropy\n",
        "from sklearn.metrics import ConfusionMatrixDisplay, confusion_matrix"
      ],
      "metadata": {
        "colab": {
          "base_uri": "https://localhost:8080/"
        },
        "id": "hJjfwslMYSNs",
        "outputId": "197a2ad7-9a05-486b-9a83-089b638c9ebf"
      },
      "execution_count": 7,
      "outputs": [
        {
          "output_type": "stream",
          "name": "stderr",
          "text": [
            "[nltk_data] Downloading package punkt to /root/nltk_data...\n",
            "[nltk_data]   Package punkt is already up-to-date!\n"
          ]
        }
      ]
    },
    {
      "cell_type": "markdown",
      "source": [
        "**Get and Analyze dataset from Huggingface**"
      ],
      "metadata": {
        "id": "SBjlIajWX_VM"
      }
    },
    {
      "cell_type": "code",
      "source": [
        "# login to HugginFace to enable upload of model\n",
        "notebook_login()"
      ],
      "metadata": {
        "colab": {
          "base_uri": "https://localhost:8080/",
          "height": 113,
          "referenced_widgets": [
            "4d456e388acb4f7eb06ea0611ed4b823",
            "c4e81554b4fb492e9009673ebf898a00",
            "decab5ccb80e4113acb4a8825bca9bf8",
            "028f933e12eb476dad9f71b19d5d768a",
            "0350cf86d4f24a41b074b9b848eff607",
            "661104e079744dafa255f96175955e79",
            "eaea36c9135440f3ab3b13deb9a99618",
            "ae018accdaae4334b82d4c26f1864953",
            "aeb8c9e282ba46bea38a1800f7fc235a",
            "4fc1aead89e64e35af8c209db1d06d35",
            "7aecf42114ff4eb9873a9f0e889c9680",
            "985c0508aa6d456b8251a1ae06b1d8b4",
            "beba4c975bc24ecd9ee04dd674c7c09d",
            "020dec072a754c628fb058b1011a8aa0",
            "828d7a82adcb4ceea7002a51579b27f0",
            "ef2afd5c4cd942c68f0fd6fe95d8e635",
            "ab311655bf2d4b15acb61621e0476087",
            "f31412c1dfc34e6a9858606c31994c51",
            "19a83c1c95c348b68dff32f014806723",
            "c6ad86666c9f4ae3abb1adcc1508bb58",
            "2a7f4b05f28a4c77930ebc14ed6e4a15",
            "e2736ef7b4bb4926ade889eb0d9654c3",
            "e5ba3e7839d3431680de50234a25a647",
            "ff90f2940dfc4850b190b9009ebc8e9c",
            "009b1e88e12840bb83f564edfad1ea54",
            "917b8f816ef14611a94d63db283ab5af",
            "91e940376be342b290d30816eb2d22f7",
            "7689c60cd89042fd87990438244b59ec",
            "3147a37f17fd40c0bb821be3a0c0667c"
          ]
        },
        "id": "-TMMSMcwXHT5",
        "outputId": "48d654ec-5ea7-4840-ccce-9307f71ca4d3"
      },
      "execution_count": 8,
      "outputs": [
        {
          "output_type": "display_data",
          "data": {
            "text/plain": [
              "VBox(children=(HTML(value='<center> <img\\nsrc=https://huggingface.co/front/assets/huggingface_logo-noborder.sv…"
            ],
            "application/vnd.jupyter.widget-view+json": {
              "version_major": 2,
              "version_minor": 0,
              "model_id": "4d456e388acb4f7eb06ea0611ed4b823"
            }
          },
          "metadata": {}
        }
      ]
    },
    {
      "cell_type": "code",
      "source": [
        "# define model\n",
        "\n",
        "# get info from dataset later used for training our model\n",
        "# load dataset to get the tags used, so we later take the same...\n",
        "\n",
        "ds = load_dataset(\"maren-hugg/sustainability_ner\")\n",
        "tags = ds[\"train\"].features[\"ner_tags\"].feature\n",
        "print(tags)\n",
        "\n",
        "# generate function to convert name and id of tags\n",
        "index2tag = {idx: tag for idx, tag in enumerate(tags.names)}\n",
        "tag2index = {tag: idx for idx, tag in enumerate(tags.names)}\n",
        "print(index2tag)\n",
        "print(tag2index)"
      ],
      "metadata": {
        "id": "M9NikK7Hh-36",
        "outputId": "e820adf3-23c8-4891-87f9-211b4ed6e46d",
        "colab": {
          "base_uri": "https://localhost:8080/",
          "height": 138,
          "referenced_widgets": [
            "b8f03242519447beaa6cce2a6e2975b5",
            "fee130b74499414aa490949c5f4b6cb2",
            "8c11c74304664cb98cc023ae25410f82",
            "946fe46522d547f98eaa69a77a7f33c6",
            "c1c5fe1ba6a64ec3947d35e771c842f0",
            "b3ef4afd4fe446c0a360b14ea8660aab",
            "e64cf8f54c824d02825e2cdea70889dc",
            "933d00b1f0234f7e9dda9eba94abf9ee",
            "da083823ec5c47c8bc567b1c3031594a",
            "8bd3c2dda66d4a82b3583970b420ba68",
            "d6cde39ce6a348a49845c1a1ed6a8d86"
          ]
        }
      },
      "execution_count": 57,
      "outputs": [
        {
          "output_type": "stream",
          "name": "stderr",
          "text": [
            "WARNING:datasets.builder:Found cached dataset parquet (/root/.cache/huggingface/datasets/maren-hugg___parquet/maren-hugg--sustainability_ner-5c5b3004acd97e8f/0.0.0/2a3b91fbd88a2c90d1dbbb32b460cf621d31bd5b05b934492fdef7d8d6f236ec)\n"
          ]
        },
        {
          "output_type": "display_data",
          "data": {
            "text/plain": [
              "  0%|          | 0/3 [00:00<?, ?it/s]"
            ],
            "application/vnd.jupyter.widget-view+json": {
              "version_major": 2,
              "version_minor": 0,
              "model_id": "b8f03242519447beaa6cce2a6e2975b5"
            }
          },
          "metadata": {}
        },
        {
          "output_type": "stream",
          "name": "stdout",
          "text": [
            "ClassLabel(names=['O', 'B-PER', 'I-PER', 'B-ORG', 'I-ORG', 'B-LOC', 'I-LOC'], id=None)\n",
            "{0: 'O', 1: 'B-PER', 2: 'I-PER', 3: 'B-ORG', 4: 'I-ORG', 5: 'B-LOC', 6: 'I-LOC'}\n",
            "{'O': 0, 'B-PER': 1, 'I-PER': 2, 'B-ORG': 3, 'I-ORG': 4, 'B-LOC': 5, 'I-LOC': 6}\n"
          ]
        }
      ]
    },
    {
      "cell_type": "markdown",
      "source": [
        "**Prepare input data for following training of the model XLMRobertaForTokenClassification (with our config=labels, device, ...)**"
      ],
      "metadata": {
        "id": "6URZDOPubFTa"
      }
    },
    {
      "cell_type": "code",
      "source": [
        "# prepare dataset\n",
        "ds_custom = ds\n",
        "print(\"Example element in Custom Dataset:\")\n",
        "ds_custom_element = ds[\"train\"][1]\n",
        "for key, value in ds_custom_element.items():\n",
        "    print(f\"{key}: {value}\")"
      ],
      "metadata": {
        "id": "2fNZnVQTkaOB",
        "outputId": "6705e6ad-4bc0-489d-cef9-030a6b88a48c",
        "colab": {
          "base_uri": "https://localhost:8080/"
        }
      },
      "execution_count": 46,
      "outputs": [
        {
          "output_type": "stream",
          "name": "stdout",
          "text": [
            "Example element in Custom Dataset:\n",
            "ner_tags: [3, 4, 0, 0, 0, 0, 0, 0, 0, 0, 0, 3, 0, 0, 0, 0, 0, 0, 0, 0, 0, 0, 0, 0, 0, 0, 0, 0, 0, 0, 3, 4, 0, 0, 0]\n",
            "tokens: ['Porsche', 'AG', 'is', 'also', 'a', 'member', 'of', 'the', 'employers', \"'\", 'association', 'Suedwestmetall', 'and', 'is', 'therefore', 'part', 'of', 'the', 'social', 'partnership', 'actively', 'practiced', 'between', 'the', 'metal', 'and', 'electrical', 'industry', 'and', 'the', 'IG', 'Metall', 'trade', 'union', '.']\n"
          ]
        }
      ]
    },
    {
      "cell_type": "code",
      "source": [
        "# show info about tag feature --> we already defined the varibale tags earlier\n",
        "# --> DatasetDict holds information about all features used (like infos on columns in dataframe)\n",
        "print('----------features----------------')\n",
        "print(ds_custom[\"train\"].features)\n",
        "print('----------feature ner_tags----------------')\n",
        "print(ds_custom[\"train\"].features[\"ner_tags\"].feature)\n"
      ],
      "metadata": {
        "id": "CstJjQ3LkdRK",
        "outputId": "75b99539-438b-4354-b934-d618ed935ef2",
        "colab": {
          "base_uri": "https://localhost:8080/"
        }
      },
      "execution_count": 58,
      "outputs": [
        {
          "output_type": "stream",
          "name": "stdout",
          "text": [
            "----------features----------------\n",
            "{'ner_tags': Sequence(feature=ClassLabel(names=['O', 'B-PER', 'I-PER', 'B-ORG', 'I-ORG', 'B-LOC', 'I-LOC'], id=None), length=-1, id=None), 'tokens': Sequence(feature=Value(dtype='string', id=None), length=-1, id=None)}\n",
            "----------feature ner_tags----------------\n",
            "ClassLabel(names=['O', 'B-PER', 'I-PER', 'B-ORG', 'I-ORG', 'B-LOC', 'I-LOC'], id=None)\n"
          ]
        }
      ]
    },
    {
      "cell_type": "code",
      "source": [
        "# examples\n",
        "print(ds_custom[\"train\"][1])\n",
        "print(ds_custom[\"train\"][1][\"tokens\"])\n",
        "print(ds_custom[\"train\"][1][\"ner_tags\"])"
      ],
      "metadata": {
        "colab": {
          "base_uri": "https://localhost:8080/"
        },
        "id": "_bdY_1CBKSkM",
        "outputId": "ef739805-7db0-4e29-ade3-8c5983c3a10b"
      },
      "execution_count": 48,
      "outputs": [
        {
          "output_type": "stream",
          "name": "stdout",
          "text": [
            "{'ner_tags': [3, 4, 0, 0, 0, 0, 0, 0, 0, 0, 0, 3, 0, 0, 0, 0, 0, 0, 0, 0, 0, 0, 0, 0, 0, 0, 0, 0, 0, 0, 3, 4, 0, 0, 0], 'tokens': ['Porsche', 'AG', 'is', 'also', 'a', 'member', 'of', 'the', 'employers', \"'\", 'association', 'Suedwestmetall', 'and', 'is', 'therefore', 'part', 'of', 'the', 'social', 'partnership', 'actively', 'practiced', 'between', 'the', 'metal', 'and', 'electrical', 'industry', 'and', 'the', 'IG', 'Metall', 'trade', 'union', '.']}\n",
            "['Porsche', 'AG', 'is', 'also', 'a', 'member', 'of', 'the', 'employers', \"'\", 'association', 'Suedwestmetall', 'and', 'is', 'therefore', 'part', 'of', 'the', 'social', 'partnership', 'actively', 'practiced', 'between', 'the', 'metal', 'and', 'electrical', 'industry', 'and', 'the', 'IG', 'Metall', 'trade', 'union', '.']\n",
            "[3, 4, 0, 0, 0, 0, 0, 0, 0, 0, 0, 3, 0, 0, 0, 0, 0, 0, 0, 0, 0, 0, 0, 0, 0, 0, 0, 0, 0, 0, 3, 4, 0, 0, 0]\n"
          ]
        }
      ]
    },
    {
      "cell_type": "code",
      "source": [
        "count_per = 0\n",
        "count_org = 0\n",
        "count_loc = 0\n",
        "for sentence in ds_custom[\"train\"]:\n",
        "  tags = sentence[\"ner_tags\"]\n",
        "  count_per = count_per + tags.count(1)\n",
        "  count_org = count_org + tags.count(3)\n",
        "  count_loc = count_loc + tags.count(5)\n",
        "\n",
        "for sentence in ds_custom[\"validation\"]:\n",
        "  tags = sentence[\"ner_tags\"]\n",
        "  count_per = count_per + tags.count(1)\n",
        "  count_org = count_org + tags.count(3)\n",
        "  count_loc = count_loc + tags.count(5)\n",
        "\n",
        "for sentence in ds_custom[\"test\"]:\n",
        "  tags = sentence[\"ner_tags\"]\n",
        "  count_per = count_per + tags.count(1)\n",
        "  count_org = count_org + tags.count(3)\n",
        "  count_loc = count_loc + tags.count(5)\n",
        "\n",
        "print(count_per)\n",
        "print(count_org)\n",
        "print(count_loc)\n",
        "print(count_per + count_org + count_loc)"
      ],
      "metadata": {
        "id": "snqcFLMGX9FO",
        "outputId": "ee5c9eaf-4d21-400a-cabd-09f712e65312",
        "colab": {
          "base_uri": "https://localhost:8080/"
        }
      },
      "execution_count": 49,
      "outputs": [
        {
          "output_type": "stream",
          "name": "stdout",
          "text": [
            "91\n",
            "1716\n",
            "629\n",
            "2436\n"
          ]
        }
      ]
    },
    {
      "cell_type": "markdown",
      "source": [
        "**Set tokenizer**"
      ],
      "metadata": {
        "id": "QuY8E4A4ebYr"
      }
    },
    {
      "cell_type": "code",
      "source": [
        "# setup for tokenization\n",
        "xlmr_model_name = \"maren-hugg/xlm-roberta-base-finetuned-panx-en\"\n",
        "xlmr_tokenizer = AutoTokenizer.from_pretrained(xlmr_model_name)"
      ],
      "metadata": {
        "id": "mzLgy7j4YqoW"
      },
      "execution_count": 50,
      "outputs": []
    },
    {
      "cell_type": "markdown",
      "source": [
        "**Define helper function for data preparation**"
      ],
      "metadata": {
        "id": "P2kJgS8mRoYg"
      }
    },
    {
      "cell_type": "code",
      "source": [
        "# the library datasets provides a fast way to tokenize dataset objects with the map() operation.\n",
        "# the returned input ids need to be augmented with the attention mask and the label ids, that encode the information about with token is associated with each NER tag\n",
        "\n",
        "def tokenize_and_align_labels(examples):\n",
        "  tokenized_inputs = xlmr_tokenizer(examples[\"tokens\"], truncation=True, is_split_into_words=True)  # sequence is already split in words\n",
        "  labels = []\n",
        "  for idx, label in enumerate(examples[\"ner_tags\"]):\n",
        "    word_ids = tokenized_inputs.word_ids(batch_index=idx) # get word ids to associate subwords\n",
        "    previous_word_idx = None\n",
        "    label_ids = []\n",
        "    for word_idx in word_ids:\n",
        "      if word_idx is None or word_idx == previous_word_idx:\n",
        "        label_ids.append(-100) # -100 is chose, since the PyTorch cross-entropy loss class torch.nn.CrossEntropyLoss has an attribute ignore_index, whose value is -100, which is therefor ignored during training\n",
        "      else:\n",
        "        label_ids.append(label[word_idx])\n",
        "      previous_word_idx = word_idx\n",
        "    labels.append(label_ids)\n",
        "  tokenized_inputs[\"labels\"] = labels\n",
        "  return tokenized_inputs\n",
        "\n",
        "def encode_ds_custom_dataset(corpus):\n",
        "  return corpus.map(tokenize_and_align_labels, batched=True,remove_columns=['ner_tags', 'tokens'])\n",
        "\n"
      ],
      "metadata": {
        "id": "SMABOQXJbqIB"
      },
      "execution_count": 51,
      "outputs": []
    },
    {
      "cell_type": "code",
      "source": [
        "# encode dataset\n",
        "ds_custom_encoded = encode_ds_custom_dataset(ds_custom)\n",
        "print(\"Encoded example:\")\n",
        "print(ds_custom_encoded[\"train\"][1])"
      ],
      "metadata": {
        "id": "8j8BLG0UczR8",
        "outputId": "3da3a405-e5ec-4ac8-87fa-03cdb85ae1b1",
        "colab": {
          "base_uri": "https://localhost:8080/"
        }
      },
      "execution_count": 56,
      "outputs": [
        {
          "output_type": "stream",
          "name": "stderr",
          "text": [
            "WARNING:datasets.arrow_dataset:Loading cached processed dataset at /root/.cache/huggingface/datasets/maren-hugg___parquet/maren-hugg--sustainability_ner-5c5b3004acd97e8f/0.0.0/2a3b91fbd88a2c90d1dbbb32b460cf621d31bd5b05b934492fdef7d8d6f236ec/cache-24b64578d3605f14.arrow\n",
            "WARNING:datasets.arrow_dataset:Loading cached processed dataset at /root/.cache/huggingface/datasets/maren-hugg___parquet/maren-hugg--sustainability_ner-5c5b3004acd97e8f/0.0.0/2a3b91fbd88a2c90d1dbbb32b460cf621d31bd5b05b934492fdef7d8d6f236ec/cache-dd2bab9a538f9665.arrow\n",
            "WARNING:datasets.arrow_dataset:Loading cached processed dataset at /root/.cache/huggingface/datasets/maren-hugg___parquet/maren-hugg--sustainability_ner-5c5b3004acd97e8f/0.0.0/2a3b91fbd88a2c90d1dbbb32b460cf621d31bd5b05b934492fdef7d8d6f236ec/cache-3b077bea6a2c0360.arrow\n"
          ]
        },
        {
          "output_type": "stream",
          "name": "stdout",
          "text": [
            "Encoded example:\n",
            "{'input_ids': [0, 81201, 24639, 83, 2843, 10, 32786, 111, 70, 143889, 7, 242, 125413, 1832, 297, 25617, 185790, 136, 83, 127298, 2831, 111, 70, 2265, 165410, 36457, 538, 41361, 71, 17721, 70, 12924, 136, 39108, 289, 53099, 136, 70, 79883, 94492, 52350, 69941, 6, 5, 2], 'attention_mask': [1, 1, 1, 1, 1, 1, 1, 1, 1, 1, 1, 1, 1, 1, 1, 1, 1, 1, 1, 1, 1, 1, 1, 1, 1, 1, 1, 1, 1, 1, 1, 1, 1, 1, 1, 1, 1, 1, 1, 1, 1, 1, 1, 1, 1], 'labels': [-100, 3, 4, 0, 0, 0, 0, 0, 0, 0, -100, 0, 0, 3, -100, -100, -100, 0, 0, 0, 0, 0, 0, 0, 0, 0, -100, 0, -100, 0, 0, 0, 0, 0, -100, 0, 0, 0, 3, 4, 0, 0, 0, -100, -100]}\n"
          ]
        }
      ]
    },
    {
      "cell_type": "markdown",
      "source": [
        "**Define performance measures**"
      ],
      "metadata": {
        "id": "H7MP2P0sOJjU"
      }
    },
    {
      "cell_type": "code",
      "source": [
        "# common approach: results for precision, recall, F1-score\n",
        "# in NER: all words of an entity need to be predicted correctly in order for a prediction to be counted as correct\n",
        "# libary seqeval: expects predictions and labels as lists of lists \n",
        "\n",
        "\n",
        "# during training we need to convert the outputs of the model into such a list that sequeval expects\n",
        "def align_predictions(predictions, label_ids):\n",
        "  preds = np.argmax(predictions, axis=2)\n",
        "  batch_size, seq_len = preds.shape\n",
        "  labels_list, preds_list = [], []\n",
        "\n",
        "  for batch_idx in range(batch_size):\n",
        "    example_labels, example_preds = [], []\n",
        "    for seq_idx in range(seq_len):\n",
        "      # Ignore label IDs = -100\n",
        "      if label_ids[batch_idx, seq_idx] != -100:\n",
        "        example_labels.append(index2tag[label_ids[batch_idx][seq_idx]])\n",
        "        example_preds.append(index2tag[preds[batch_idx][seq_idx]])\n",
        "    labels_list.append(example_labels)\n",
        "    preds_list.append(example_preds)\n",
        "  return preds_list, labels_list\n",
        "\n",
        "# helper function for calculation of F1-score for validation set\n",
        "def compute_metrics(eval_pred):\n",
        "  y_pred, y_true = align_predictions(eval_pred.predictions, eval_pred.label_ids)\n",
        "  return {\"f1\": f1_score(y_true, y_pred),\n",
        "          \"precision\": precision_score(y_true, y_pred),\n",
        "          \"recall\": recall_score(y_true, y_pred),\n",
        "          \"accuracy\": f1_score(y_true, y_pred),\n",
        "          \"classification_report\": classification_report(y_true, y_pred, mode='strict', scheme=IOB2)\n",
        "          }\n"
      ],
      "metadata": {
        "id": "FRNOGPAWOP8v"
      },
      "execution_count": 53,
      "outputs": []
    },
    {
      "cell_type": "markdown",
      "source": [
        "**Finetuning XLM-RoBERTa and Upload to Huggingface**"
      ],
      "metadata": {
        "id": "Eje9DztnXAH5"
      }
    },
    {
      "cell_type": "code",
      "source": [
        "# hide_output\n",
        "\n",
        "import torch\n",
        "\n",
        "# passing keyword arguments to the from_pretrained() method overrides default values\n",
        "xlmr_config = AutoConfig.from_pretrained(xlmr_model_name,num_labels=tags.num_classes, id2label=index2tag, label2id=tag2index)\n",
        "\n",
        "# define \"device\"\n",
        "device = torch.device(\"cuda\" if torch.cuda.is_available() else \"cpu\")\n",
        "print(device)\n"
      ],
      "metadata": {
        "id": "d2O-bjMQQ3x3",
        "outputId": "343254e6-e644-4fa6-9731-840c59bfc179",
        "colab": {
          "base_uri": "https://localhost:8080/"
        }
      },
      "execution_count": 59,
      "outputs": [
        {
          "output_type": "stream",
          "name": "stdout",
          "text": [
            "cuda\n"
          ]
        }
      ]
    },
    {
      "cell_type": "code",
      "source": [
        "# docu: https://huggingface.co/docs/transformers/v4.28.1/en/main_classes/trainer#transformers.TrainingArguments\n",
        "num_epochs = 3\n",
        "batch_size = 16\n",
        "logging_steps = len(ds_custom_encoded[\"train\"]) // batch_size \n",
        "model_name = f\"{xlmr_model_name}-custom\"\n",
        "training_args = TrainingArguments(output_dir=model_name, log_level=\"error\", num_train_epochs=num_epochs,\n",
        "                                  per_device_train_batch_size=batch_size,\n",
        "                                  per_device_eval_batch_size=batch_size,\n",
        "                                  evaluation_strategy=\"steps\", eval_steps=batch_size, # Number of update steps between two evaluations if evaluation_strategy=\"steps\".\n",
        "                                  save_strategy=\"steps\", save_steps=1e6, \n",
        "                                  weight_decay=0.01,\n",
        "                                  disable_tqdm=False, \n",
        "                                  logging_strategy=\"steps\", logging_steps=batch_size,  # Number of update steps between two logs if logging_strategy=\"steps\".\n",
        "                                  push_to_hub=True)"
      ],
      "metadata": {
        "id": "9gqBOLqxVxbu"
      },
      "execution_count": 85,
      "outputs": []
    },
    {
      "cell_type": "code",
      "source": [
        "# this model needs to be crated at huggingface:\n",
        "f\"{xlmr_model_name}-custom\""
      ],
      "metadata": {
        "colab": {
          "base_uri": "https://localhost:8080/",
          "height": 35
        },
        "id": "HVvVjLRscWul",
        "outputId": "5e1345bb-c64c-4bdf-eb0c-f88ab7f1dc45"
      },
      "execution_count": 86,
      "outputs": [
        {
          "output_type": "execute_result",
          "data": {
            "text/plain": [
              "'maren-hugg/xlm-roberta-base-finetuned-panx-en-custom'"
            ],
            "application/vnd.google.colaboratory.intrinsic+json": {
              "type": "string"
            }
          },
          "metadata": {},
          "execution_count": 86
        }
      ]
    },
    {
      "cell_type": "code",
      "source": [
        "# pad each input sequence to the largest sequence length in a batch\n",
        "data_collator = DataCollatorForTokenClassification(xlmr_tokenizer)"
      ],
      "metadata": {
        "id": "3tD9vKZ2YZ1t"
      },
      "execution_count": 64,
      "outputs": []
    },
    {
      "cell_type": "code",
      "source": [
        "# init method, to avoid initializing a new model for every Trainer (it loads the untrained model and is called at the beginning of the train() call)\n",
        "def model_init():\n",
        "  return (XLMRobertaForTokenClassification\n",
        "          .from_pretrained(xlmr_model_name, config=xlmr_config)\n",
        "          .to(device))"
      ],
      "metadata": {
        "id": "oR33DK-0YjKA"
      },
      "execution_count": 87,
      "outputs": []
    },
    {
      "cell_type": "code",
      "source": [
        "trainer = Trainer(model_init=model_init, args=training_args,\n",
        "                  data_collator=data_collator,\n",
        "                  compute_metrics=compute_metrics,\n",
        "                  train_dataset=ds_custom_encoded[\"train\"],\n",
        "                  eval_dataset=ds_custom_encoded[\"validation\"],\n",
        "                  tokenizer=xlmr_tokenizer)"
      ],
      "metadata": {
        "colab": {
          "base_uri": "https://localhost:8080/"
        },
        "id": "BYQLyzuSZ-zn",
        "outputId": "d8a15eb2-c6c1-49cf-d8c5-7f92b5abbe87"
      },
      "execution_count": 88,
      "outputs": [
        {
          "output_type": "stream",
          "name": "stderr",
          "text": [
            "/content/maren-hugg/xlm-roberta-base-finetuned-panx-en-custom is already a clone of https://huggingface.co/maren-hugg/xlm-roberta-base-finetuned-panx-en-custom. Make sure you pull the latest changes with `repo.git_pull()`.\n",
            "WARNING:huggingface_hub.repository:/content/maren-hugg/xlm-roberta-base-finetuned-panx-en-custom is already a clone of https://huggingface.co/maren-hugg/xlm-roberta-base-finetuned-panx-en-custom. Make sure you pull the latest changes with `repo.git_pull()`.\n"
          ]
        }
      ]
    },
    {
      "cell_type": "code",
      "source": [
        "trainer.train()"
      ],
      "metadata": {
        "colab": {
          "base_uri": "https://localhost:8080/",
          "height": 474
        },
        "id": "Z5N1kmrQaKgX",
        "outputId": "aa6f684d-d02f-43fd-dacd-18eeb42fbf18"
      },
      "execution_count": 89,
      "outputs": [
        {
          "output_type": "stream",
          "name": "stderr",
          "text": [
            "/usr/local/lib/python3.10/dist-packages/transformers/optimization.py:411: FutureWarning: This implementation of AdamW is deprecated and will be removed in a future version. Use the PyTorch implementation torch.optim.AdamW instead, or set `no_deprecation_warning=True` to disable this warning\n",
            "  warnings.warn(\n"
          ]
        },
        {
          "output_type": "display_data",
          "data": {
            "text/plain": [
              "<IPython.core.display.HTML object>"
            ],
            "text/html": [
              "\n",
              "    <div>\n",
              "      \n",
              "      <progress value='96' max='96' style='width:300px; height:20px; vertical-align: middle;'></progress>\n",
              "      [96/96 00:10, Epoch 3/3]\n",
              "    </div>\n",
              "    <table border=\"1\" class=\"dataframe\">\n",
              "  <thead>\n",
              " <tr style=\"text-align: left;\">\n",
              "      <th>Step</th>\n",
              "      <th>Training Loss</th>\n",
              "      <th>Validation Loss</th>\n",
              "      <th>F1</th>\n",
              "      <th>Precision</th>\n",
              "      <th>Recall</th>\n",
              "      <th>Accuracy</th>\n",
              "      <th>Classification Report</th>\n",
              "    </tr>\n",
              "  </thead>\n",
              "  <tbody>\n",
              "    <tr>\n",
              "      <td>16</td>\n",
              "      <td>0.138400</td>\n",
              "      <td>0.108498</td>\n",
              "      <td>0.832934</td>\n",
              "      <td>0.804012</td>\n",
              "      <td>0.864013</td>\n",
              "      <td>0.832934</td>\n",
              "      <td>              precision    recall  f1-score   support\n",
              "\n",
              "         LOC       0.77      0.84      0.80       153\n",
              "         ORG       0.84      0.87      0.86       423\n",
              "         PER       0.92      0.81      0.86        27\n",
              "\n",
              "   micro avg       0.83      0.86      0.84       603\n",
              "   macro avg       0.84      0.84      0.84       603\n",
              "weighted avg       0.83      0.86      0.84       603\n",
              "</td>\n",
              "    </tr>\n",
              "    <tr>\n",
              "      <td>32</td>\n",
              "      <td>0.095300</td>\n",
              "      <td>0.099687</td>\n",
              "      <td>0.860577</td>\n",
              "      <td>0.832558</td>\n",
              "      <td>0.890547</td>\n",
              "      <td>0.860577</td>\n",
              "      <td>              precision    recall  f1-score   support\n",
              "\n",
              "         LOC       0.87      0.79      0.83       153\n",
              "         ORG       0.83      0.92      0.87       423\n",
              "         PER       0.96      0.85      0.90        27\n",
              "\n",
              "   micro avg       0.84      0.88      0.86       603\n",
              "   macro avg       0.89      0.85      0.87       603\n",
              "weighted avg       0.85      0.88      0.86       603\n",
              "</td>\n",
              "    </tr>\n",
              "    <tr>\n",
              "      <td>48</td>\n",
              "      <td>0.051000</td>\n",
              "      <td>0.101260</td>\n",
              "      <td>0.875817</td>\n",
              "      <td>0.863124</td>\n",
              "      <td>0.888889</td>\n",
              "      <td>0.875817</td>\n",
              "      <td>              precision    recall  f1-score   support\n",
              "\n",
              "         LOC       0.87      0.86      0.86       153\n",
              "         ORG       0.86      0.90      0.88       423\n",
              "         PER       0.96      0.85      0.90        27\n",
              "\n",
              "   micro avg       0.87      0.89      0.88       603\n",
              "   macro avg       0.90      0.87      0.88       603\n",
              "weighted avg       0.87      0.89      0.88       603\n",
              "</td>\n",
              "    </tr>\n",
              "    <tr>\n",
              "      <td>64</td>\n",
              "      <td>0.058300</td>\n",
              "      <td>0.106614</td>\n",
              "      <td>0.861931</td>\n",
              "      <td>0.830769</td>\n",
              "      <td>0.895522</td>\n",
              "      <td>0.861931</td>\n",
              "      <td>              precision    recall  f1-score   support\n",
              "\n",
              "         LOC       0.88      0.85      0.86       153\n",
              "         ORG       0.83      0.91      0.87       423\n",
              "         PER       0.89      0.93      0.91        27\n",
              "\n",
              "   micro avg       0.84      0.89      0.87       603\n",
              "   macro avg       0.87      0.89      0.88       603\n",
              "weighted avg       0.84      0.89      0.87       603\n",
              "</td>\n",
              "    </tr>\n",
              "    <tr>\n",
              "      <td>80</td>\n",
              "      <td>0.034900</td>\n",
              "      <td>0.097914</td>\n",
              "      <td>0.883495</td>\n",
              "      <td>0.862559</td>\n",
              "      <td>0.905473</td>\n",
              "      <td>0.883495</td>\n",
              "      <td>              precision    recall  f1-score   support\n",
              "\n",
              "         LOC       0.88      0.87      0.88       153\n",
              "         ORG       0.87      0.91      0.89       423\n",
              "         PER       0.89      0.93      0.91        27\n",
              "\n",
              "   micro avg       0.87      0.90      0.89       603\n",
              "   macro avg       0.88      0.90      0.89       603\n",
              "weighted avg       0.87      0.90      0.89       603\n",
              "</td>\n",
              "    </tr>\n",
              "    <tr>\n",
              "      <td>96</td>\n",
              "      <td>0.039500</td>\n",
              "      <td>0.098018</td>\n",
              "      <td>0.880196</td>\n",
              "      <td>0.865385</td>\n",
              "      <td>0.895522</td>\n",
              "      <td>0.880196</td>\n",
              "      <td>              precision    recall  f1-score   support\n",
              "\n",
              "         LOC       0.88      0.87      0.87       153\n",
              "         ORG       0.88      0.90      0.89       423\n",
              "         PER       0.89      0.89      0.89        27\n",
              "\n",
              "   micro avg       0.88      0.89      0.88       603\n",
              "   macro avg       0.88      0.89      0.88       603\n",
              "weighted avg       0.88      0.89      0.88       603\n",
              "</td>\n",
              "    </tr>\n",
              "  </tbody>\n",
              "</table><p>"
            ]
          },
          "metadata": {}
        },
        {
          "output_type": "execute_result",
          "data": {
            "text/plain": [
              "TrainOutput(global_step=96, training_loss=0.06956147899230321, metrics={'train_runtime': 10.1328, 'train_samples_per_second': 148.034, 'train_steps_per_second': 9.474, 'total_flos': 61213573662120.0, 'train_loss': 0.06956147899230321, 'epoch': 3.0})"
            ]
          },
          "metadata": {},
          "execution_count": 89
        }
      ]
    },
    {
      "cell_type": "code",
      "source": [
        "trainer.push_to_hub(commit_message=\"Training completed!\")"
      ],
      "metadata": {
        "id": "h8a9fHXNcrc8",
        "colab": {
          "base_uri": "https://localhost:8080/",
          "height": 308,
          "referenced_widgets": [
            "5c8ad461fe704dbe96d98ffbcb6f7652",
            "a631c753749f4e0aad0ae8af59e5627f",
            "fc89140e3ea94c9baea4afc121b28257",
            "a12cc9ea820640b4bdd87c1db74afe6a",
            "b5fdb3680f60466b8d3f9628816ce67c",
            "6b1c56c0f7ce41918dd8885d737c8fdf",
            "88e35b19b55f4e4199081b35b132bce9",
            "1e8dda4861c0451fa6eb1eb3f19dce8a",
            "6cb40eab4a444a6eb023445d74713c4d",
            "34b88c07750c45a7a2e84b33632caff7",
            "45e1066e2fe1400185f45f4a1d0490ff",
            "c6f2dfd831a54c668a0e6be7c3cfd6a9",
            "c84128ce74894e3d91edd6f78595665f",
            "494668a66dbc444bbd15f3fe7e441716",
            "21bd659bbdda45f4b942e5a7f72d61d7",
            "0af6784ee434448b8ab02e148b9fff56",
            "d803fd69dc074412a74c385b7ba8764f",
            "9a226eefacff4cff803f7935590d35df",
            "b665222514ce46d6a6cb40e2918401f2",
            "e256ae05c13d407d8ad1bbde666c48f7",
            "1aefa42120974ef3aa8683953192de3c",
            "ff3ccd5dd0f344afac78383b6d5b909a"
          ]
        },
        "outputId": "1980921b-8cb7-4f80-bdc9-50d732d69d43"
      },
      "execution_count": 90,
      "outputs": [
        {
          "output_type": "display_data",
          "data": {
            "text/plain": [
              "Upload file runs/Jun12_07-44-54_32324690376c/events.out.tfevents.1686555907.32324690376c.8733.7:   0%|        …"
            ],
            "application/vnd.jupyter.widget-view+json": {
              "version_major": 2,
              "version_minor": 0,
              "model_id": "5c8ad461fe704dbe96d98ffbcb6f7652"
            }
          },
          "metadata": {}
        },
        {
          "output_type": "display_data",
          "data": {
            "text/plain": [
              "Upload file training_args.bin:   0%|          | 1.00/3.87k [00:00<?, ?B/s]"
            ],
            "application/vnd.jupyter.widget-view+json": {
              "version_major": 2,
              "version_minor": 0,
              "model_id": "c6f2dfd831a54c668a0e6be7c3cfd6a9"
            }
          },
          "metadata": {}
        },
        {
          "output_type": "stream",
          "name": "stderr",
          "text": [
            "To https://huggingface.co/maren-hugg/xlm-roberta-base-finetuned-panx-en-custom\n",
            "   9610185..96a24bc  main -> main\n",
            "\n",
            "WARNING:huggingface_hub.repository:To https://huggingface.co/maren-hugg/xlm-roberta-base-finetuned-panx-en-custom\n",
            "   9610185..96a24bc  main -> main\n",
            "\n",
            "To https://huggingface.co/maren-hugg/xlm-roberta-base-finetuned-panx-en-custom\n",
            "   96a24bc..4249c17  main -> main\n",
            "\n",
            "WARNING:huggingface_hub.repository:To https://huggingface.co/maren-hugg/xlm-roberta-base-finetuned-panx-en-custom\n",
            "   96a24bc..4249c17  main -> main\n",
            "\n"
          ]
        },
        {
          "output_type": "execute_result",
          "data": {
            "text/plain": [
              "'https://huggingface.co/maren-hugg/xlm-roberta-base-finetuned-panx-en-custom/commit/96a24bc7c3e72b99d3db227da606169dbeba861c'"
            ],
            "application/vnd.google.colaboratory.intrinsic+json": {
              "type": "string"
            }
          },
          "metadata": {},
          "execution_count": 90
        }
      ]
    },
    {
      "cell_type": "code",
      "source": [
        "# info about trainer log history\n",
        "metrics_train=trainer.state.log_history\n",
        "for item in metrics_train:\n",
        "  print(item)"
      ],
      "metadata": {
        "id": "-XKfz8q0mypE",
        "outputId": "141ebd1c-ffc7-4413-949c-6c7805f09ba2",
        "colab": {
          "base_uri": "https://localhost:8080/"
        }
      },
      "execution_count": 91,
      "outputs": [
        {
          "output_type": "stream",
          "name": "stdout",
          "text": [
            "{'loss': 0.1384, 'learning_rate': 4.166666666666667e-05, 'epoch': 0.5, 'step': 16}\n",
            "{'eval_loss': 0.10849767923355103, 'eval_f1': 0.8329336530775381, 'eval_precision': 0.8040123456790124, 'eval_recall': 0.8640132669983416, 'eval_accuracy': 0.8329336530775381, 'eval_classification_report': '              precision    recall  f1-score   support\\n\\n         LOC       0.77      0.84      0.80       153\\n         ORG       0.84      0.87      0.86       423\\n         PER       0.92      0.81      0.86        27\\n\\n   micro avg       0.83      0.86      0.84       603\\n   macro avg       0.84      0.84      0.84       603\\nweighted avg       0.83      0.86      0.84       603\\n', 'eval_runtime': 0.4469, 'eval_samples_per_second': 559.389, 'eval_steps_per_second': 35.801, 'epoch': 0.5, 'step': 16}\n",
            "{'loss': 0.0953, 'learning_rate': 3.3333333333333335e-05, 'epoch': 1.0, 'step': 32}\n",
            "{'eval_loss': 0.09968652576208115, 'eval_f1': 0.8605769230769231, 'eval_precision': 0.8325581395348837, 'eval_recall': 0.8905472636815921, 'eval_accuracy': 0.8605769230769231, 'eval_classification_report': '              precision    recall  f1-score   support\\n\\n         LOC       0.87      0.79      0.83       153\\n         ORG       0.83      0.92      0.87       423\\n         PER       0.96      0.85      0.90        27\\n\\n   micro avg       0.84      0.88      0.86       603\\n   macro avg       0.89      0.85      0.87       603\\nweighted avg       0.85      0.88      0.86       603\\n', 'eval_runtime': 0.4447, 'eval_samples_per_second': 562.19, 'eval_steps_per_second': 35.98, 'epoch': 1.0, 'step': 32}\n",
            "{'loss': 0.051, 'learning_rate': 2.5e-05, 'epoch': 1.5, 'step': 48}\n",
            "{'eval_loss': 0.10125986486673355, 'eval_f1': 0.8758169934640523, 'eval_precision': 0.8631239935587761, 'eval_recall': 0.8888888888888888, 'eval_accuracy': 0.8758169934640523, 'eval_classification_report': '              precision    recall  f1-score   support\\n\\n         LOC       0.87      0.86      0.86       153\\n         ORG       0.86      0.90      0.88       423\\n         PER       0.96      0.85      0.90        27\\n\\n   micro avg       0.87      0.89      0.88       603\\n   macro avg       0.90      0.87      0.88       603\\nweighted avg       0.87      0.89      0.88       603\\n', 'eval_runtime': 0.4473, 'eval_samples_per_second': 558.966, 'eval_steps_per_second': 35.774, 'epoch': 1.5, 'step': 48}\n",
            "{'loss': 0.0583, 'learning_rate': 1.6666666666666667e-05, 'epoch': 2.0, 'step': 64}\n",
            "{'eval_loss': 0.10661353915929794, 'eval_f1': 0.8619313647246609, 'eval_precision': 0.8307692307692308, 'eval_recall': 0.8955223880597015, 'eval_accuracy': 0.8619313647246609, 'eval_classification_report': '              precision    recall  f1-score   support\\n\\n         LOC       0.88      0.85      0.86       153\\n         ORG       0.83      0.91      0.87       423\\n         PER       0.89      0.93      0.91        27\\n\\n   micro avg       0.84      0.89      0.87       603\\n   macro avg       0.87      0.89      0.88       603\\nweighted avg       0.84      0.89      0.87       603\\n', 'eval_runtime': 0.4437, 'eval_samples_per_second': 563.392, 'eval_steps_per_second': 36.057, 'epoch': 2.0, 'step': 64}\n",
            "{'loss': 0.0349, 'learning_rate': 8.333333333333334e-06, 'epoch': 2.5, 'step': 80}\n",
            "{'eval_loss': 0.09791391342878342, 'eval_f1': 0.883495145631068, 'eval_precision': 0.8625592417061612, 'eval_recall': 0.9054726368159204, 'eval_accuracy': 0.883495145631068, 'eval_classification_report': '              precision    recall  f1-score   support\\n\\n         LOC       0.88      0.87      0.88       153\\n         ORG       0.87      0.91      0.89       423\\n         PER       0.89      0.93      0.91        27\\n\\n   micro avg       0.87      0.90      0.89       603\\n   macro avg       0.88      0.90      0.89       603\\nweighted avg       0.87      0.90      0.89       603\\n', 'eval_runtime': 0.4455, 'eval_samples_per_second': 561.108, 'eval_steps_per_second': 35.911, 'epoch': 2.5, 'step': 80}\n",
            "{'loss': 0.0395, 'learning_rate': 0.0, 'epoch': 3.0, 'step': 96}\n",
            "{'eval_loss': 0.09801831096410751, 'eval_f1': 0.880195599022005, 'eval_precision': 0.8653846153846154, 'eval_recall': 0.8955223880597015, 'eval_accuracy': 0.880195599022005, 'eval_classification_report': '              precision    recall  f1-score   support\\n\\n         LOC       0.88      0.87      0.87       153\\n         ORG       0.88      0.90      0.89       423\\n         PER       0.89      0.89      0.89        27\\n\\n   micro avg       0.88      0.89      0.88       603\\n   macro avg       0.88      0.89      0.88       603\\nweighted avg       0.88      0.89      0.88       603\\n', 'eval_runtime': 0.4453, 'eval_samples_per_second': 561.481, 'eval_steps_per_second': 35.935, 'epoch': 3.0, 'step': 96}\n",
            "{'train_runtime': 10.1328, 'train_samples_per_second': 148.034, 'train_steps_per_second': 9.474, 'total_flos': 61213573662120.0, 'train_loss': 0.06956147899230321, 'epoch': 3.0, 'step': 96}\n"
          ]
        }
      ]
    }
  ]
}